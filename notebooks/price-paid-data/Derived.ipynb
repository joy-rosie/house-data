{
 "cells": [
  {
   "cell_type": "markdown",
   "id": "bcc704ba-d843-432f-b146-65c4e55a096c",
   "metadata": {},
   "source": [
    "## Imports"
   ]
  },
  {
   "cell_type": "code",
   "execution_count": null,
   "id": "4a47f0ac-0967-4d29-b1de-198e85ed7871",
   "metadata": {},
   "outputs": [],
   "source": [
    "from pathlib import Path\n",
    "\n",
    "import datamate\n",
    "import pandas as pd\n",
    "from tqdm.notebook import tqdm"
   ]
  },
  {
   "cell_type": "markdown",
   "id": "6cab06c6-f42b-46e0-a1d1-e6ba02bebd16",
   "metadata": {},
   "source": [
    "## Name For This Data"
   ]
  },
  {
   "cell_type": "code",
   "execution_count": null,
   "id": "3f971752-20d0-4d2e-bc2c-720b9c6cbca1",
   "metadata": {},
   "outputs": [],
   "source": [
    "name = \"price-paid-data/derived\"\n",
    "name_raw = \"price-paid-data/raw\""
   ]
  },
  {
   "cell_type": "markdown",
   "id": "2e97c192-5d6b-4bf2-95f3-a571d7fd6747",
   "metadata": {},
   "source": [
    "## Load Necessary Configration"
   ]
  },
  {
   "cell_type": "code",
   "execution_count": null,
   "id": "6f13f546-42bf-4711-a75d-b5ee5192d0c6",
   "metadata": {},
   "outputs": [],
   "source": [
    "key = datamate.config.get_key_for_name(name=name)\n",
    "\n",
    "path_data = datamate.config.get_path_data_for_key(key=key)\n",
    "logger = datamate.logging.get_logger(key=key)\n",
    "\n",
    "logger.info(f\"{key=} loaded for {name=}\")\n",
    "logger.info(f\"{path_data=}\")\n",
    "\n",
    "key_raw = datamate.config.get_key_for_name(name=name_raw)\n",
    "path_data_raw = datamate.config.get_path_data_for_key(key=key_raw)\n",
    "\n",
    "logger.info(f\"Using {path_data_raw=} for {key_raw=}\")"
   ]
  },
  {
   "cell_type": "markdown",
   "id": "e276954e-bb3e-4677-8003-b40de5987481",
   "metadata": {},
   "source": [
    "## Data Information\n",
    "\n",
    "- Primary source of information is https://www.gov.uk/guidance/about-the-price-paid-data\n",
    "\n",
    "|Data item | Explanation (where appropriate)|\n",
    "| -- | -- |\n",
    "|Transaction unique identifier | A reference number which is generated automatically recording each published sale. The number is unique and will change each time a sale is recorded.|\n",
    "| Price\t| Sale price stated on the transfer deed.|\n",
    "| Date of Transfer| Date when the sale was completed, as stated on the transfer deed.|\n",
    "| Postcode | This is the postcode used at the time of the original transaction. Note that postcodes can be reallocated and these changes are not reflected in the Price Paid Dataset.|\n",
    "| Property Type | D = Detached, S = Semi-Detached, T = Terraced, F = Flats/Maisonettes, O = Other|\n",
    "|Old/New | Indicates the age of the property and applies to all price paid transactions, residential and non-residential. Y = a newly built property, N = an established residential building |\n",
    "|Duration | Relates to the tenure: F = Freehold, L= Leasehold etc.|\n",
    "|PAON | Primary Addressable Object Name. Typically the house number or name. |\n",
    "|SAON | Secondary Addressable Object Name. Where a property has been divided into separate units (for example, flats), the PAON (above) will identify the building and a SAON will be specified that identifies the separate unit/flat. |\n",
    "|Street | |\n",
    "|Locality | |\n",
    "|Town/City | |\n",
    "|District | |\n",
    "|County | |\n",
    "| PPD Category Type | Indicates the type of Price Paid transaction. A = Standard Price Paid entry, includes single residential property sold for value. B = Additional Price Paid entry including transfers under a power of sale/repossessions, buy-to-lets (where they can be identified by a Mortgage), transfers to non-private individuals and sales where the property type is classed as ‘Other’.|\n",
    "|Record Status - monthly file only |Indicates additions, changes and deletions to the records.(see guide below). A = Addition, C = Change, D = Delete|\n"
   ]
  },
  {
   "cell_type": "code",
   "execution_count": 1,
   "id": "3d5e789f-7516-4c3b-8f79-71489f5dcdcc",
   "metadata": {},
   "outputs": [],
   "source": [
    "map_headers = {\n",
    "    \"Transaction unique identifier\": \"idTransaction\",\n",
    "    \"Price\": \"price\",\n",
    "    \"Date of Transfer\": \"date\",\n",
    "    \"Postcode\": \"postcode\",\n",
    "    \"Property Type\": \"propertyType\",\n",
    "    \"Old/New\": \"buildType\",\n",
    "    \"Duration\": \"ownershipType\",\n",
    "    \"PAON\": \"primaryAddressableObjectName\",\n",
    "    \"SAON\": \"secondaryAddressableObjectName\",\n",
    "    \"Street\": \"street\",\n",
    "    \"Locality\": \"locality\",\n",
    "    \"Town/City\": \"townCity\",\n",
    "    \"District\": \"district\",\n",
    "    \"County\": \"county\",\n",
    "    \"PPD Category Type\": \"transactionType\",\n",
    "    \"Record Status - monthly file only\": \"recordStatus\",\n",
    "}\n",
    "\n",
    "map_property_type = {\n",
    "    \"D\": \"detached\",\n",
    "    \"S\": \"semi-detached\",\n",
    "    \"T\": \"terraced\",\n",
    "    \"F\": \"flat-or-maisonette\",\n",
    "    \"O\": \"other\",\n",
    "}\n",
    "\n",
    "map_build_type = {\n",
    "    \"Y\": \"new\",\n",
    "    \"N\": \"old\",\n",
    "}\n",
    "\n",
    "map_ownership_type = {\n",
    "    \"L\": \"leasehold\",\n",
    "    \"F\": \"freehold\",\n",
    "    \"U\": \"other\",\n",
    "}\n",
    "\n",
    "map_transaction_type = {\n",
    "    \"A\": \"standard\",\n",
    "    \"B\": \"non-standard\",\n",
    "}\n",
    "\n",
    "map_record_status = {\n",
    "    \"A\": \"addition\",\n",
    "    \"C\": \"change\",\n",
    "    \"D\": \"deletion\",\n",
    "}"
   ]
  },
  {
   "cell_type": "code",
   "execution_count": null,
   "id": "0acf9f29-c835-4ba7-9f69-8f7b6e122c4e",
   "metadata": {},
   "outputs": [],
   "source": [
    "path_headers_raw = path_data_raw.joinpath(\"headers.csv\")\n",
    "headers = pd.read_csv(path_headers_raw).columns.tolist()\n",
    "\n",
    "assert set(headers) == set(map_headers.keys()), f\"The following do not match:\\n{headers}\\n{list(map_headers.keys())} do not match\""
   ]
  },
  {
   "cell_type": "code",
   "execution_count": null,
   "id": "7430646c-81ae-4908-bf42-062ab00ead0c",
   "metadata": {},
   "outputs": [],
   "source": [
    "def clean_data(\n",
    "    path: Path,\n",
    "    map_headers: dict[str, str],\n",
    "    map_property_type: dict[str, str],\n",
    "    map_build_type: dict[str, str],\n",
    "    map_ownership_type: dict[str, str],\n",
    "    map_transaction_type: dict[str, str],\n",
    "    map_record_status: dict[str, str],\n",
    ") -> pd.DataFrame:\n",
    "    return (\n",
    "        pd.read_csv(path, names=map_headers.keys())\n",
    "        .rename(columns=map_headers)\n",
    "        .assign(\n",
    "            price=lambda x: pd.to_numeric(x['price']).astype(float),\n",
    "            date=lambda x: pd.to_datetime(x[\"date\"]),\n",
    "            postcode=lambda x: x[\"postcode\"].astype(\"string\"),\n",
    "            propertyType=lambda x: x[\"propertyType\"].astype(\"category\").cat.rename_categories(map_property_type),\n",
    "            buildType=lambda x: x[\"buildType\"].astype(\"category\").cat.rename_categories(map_build_type),\n",
    "            ownershipType=lambda x: x[\"ownershipType\"].astype(\"category\").cat.rename_categories(map_ownership_type),\n",
    "            primaryAddressableObjectName=lambda x: x[\"primaryAddressableObjectName\"].astype(\"string\"),\n",
    "            secondaryAddressableObjectName=lambda x: x[\"secondaryAddressableObjectName\"].astype(\"string\"),\n",
    "            street=lambda x: x[\"street\"].astype(\"string\"),\n",
    "            locality=lambda x: x[\"locality\"].astype(\"string\"),\n",
    "            townCity=lambda x: x[\"townCity\"].astype(\"category\"),\n",
    "            district=lambda x: x[\"district\"].astype(\"category\"),\n",
    "            county=lambda x: x[\"county\"].astype(\"category\"),\n",
    "            transactionType=lambda x: x[\"transactionType\"].astype(\"category\").cat.rename_categories(map_transaction_type),\n",
    "            recordStatus=lambda x: x[\"recordStatus\"].astype(\"category\").cat.rename_categories(map_record_status),\n",
    "        )\n",
    "        .drop(columns=[\"recordStatus\"])\n",
    "    )\n",
    "\n",
    "# # Testing function:\n",
    "# df = clean_data(\n",
    "#     path=path_data_raw.joinpath(\"pp-2019.csv\"), \n",
    "#     map_headers=map_headers,\n",
    "#     map_property_type=map_property_type,\n",
    "#     map_build_type=map_build_type,\n",
    "#     map_ownership_type=map_ownership_type,\n",
    "#     map_transaction_type=map_transaction_type,\n",
    "#     map_record_status=map_record_status,\n",
    "# )"
   ]
  },
  {
   "cell_type": "code",
   "execution_count": null,
   "id": "db7295d3-f209-46cf-a6f1-1a86b1c8b86b",
   "metadata": {},
   "outputs": [],
   "source": [
    "list_df = []\n",
    "\n",
    "for path in tqdm(list(path_data_raw.iterdir())):\n",
    "    if path != path_headers_raw:\n",
    "        logger.info(f\"Cleaning data for {path=}\")\n",
    "        list_df.append(clean_data(\n",
    "            path=path,\n",
    "            map_headers=map_headers,\n",
    "            map_property_type=map_property_type,\n",
    "            map_build_type=map_build_type,\n",
    "            map_ownership_type=map_ownership_type,\n",
    "            map_transaction_type=map_transaction_type,\n",
    "            map_record_status=map_record_status,\n",
    "        ))\n",
    "        \n",
    "logger.info(\"Concatenating all the data together\")\n",
    "df = datamate.pandas.concat_preserving_categorical(list_df, ignore_index=True)\n",
    "list_df = None\n",
    "\n",
    "path_derived = path_data.joinpath(\"data.parquet\")\n",
    "logger.info(f\"Saving data to {path_derived=}\")\n",
    "df.to_parquet(path=path_derived)"
   ]
  },
  {
   "cell_type": "code",
   "execution_count": null,
   "id": "930f7fd8-030a-4639-b91f-2409c84c62bb",
   "metadata": {},
   "outputs": [],
   "source": [
    "logger.info(f\"{df.columns=}\")\n",
    "logger.info(f\"{df.memory_usage().sum()=:,}\")\n",
    "logger.info(f\"\"\"{df.describe()=\n",
    "}\"\"\")\n",
    "logger.info(f\"\"\"{df.describe(include='category')=\n",
    "}\"\"\")"
   ]
  }
 ],
 "metadata": {
  "kernelspec": {
   "display_name": "Python 3 (ipykernel)",
   "language": "python",
   "name": "python3"
  },
  "language_info": {
   "codemirror_mode": {
    "name": "ipython",
    "version": 3
   },
   "file_extension": ".py",
   "mimetype": "text/x-python",
   "name": "python",
   "nbconvert_exporter": "python",
   "pygments_lexer": "ipython3",
   "version": "3.10.9"
  }
 },
 "nbformat": 4,
 "nbformat_minor": 5
}
