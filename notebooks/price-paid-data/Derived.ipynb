{
 "cells": [
  {
   "cell_type": "markdown",
   "id": "bcc704ba-d843-432f-b146-65c4e55a096c",
   "metadata": {},
   "source": [
    "## Imports"
   ]
  },
  {
   "cell_type": "code",
   "execution_count": 3,
   "id": "4a47f0ac-0967-4d29-b1de-198e85ed7871",
   "metadata": {},
   "outputs": [],
   "source": [
    "import datetime\n",
    "\n",
    "import datamate\n",
    "import requests\n",
    "from tqdm.notebook import tqdm"
   ]
  },
  {
   "cell_type": "markdown",
   "id": "6cab06c6-f42b-46e0-a1d1-e6ba02bebd16",
   "metadata": {},
   "source": [
    "## Name For This Data"
   ]
  },
  {
   "cell_type": "code",
   "execution_count": 6,
   "id": "3f971752-20d0-4d2e-bc2c-720b9c6cbca1",
   "metadata": {},
   "outputs": [],
   "source": [
    "name = \"price-paid-data/derived\"\n",
    "name_raw = \"price-paid-data/raw\""
   ]
  },
  {
   "cell_type": "markdown",
   "id": "2e97c192-5d6b-4bf2-95f3-a571d7fd6747",
   "metadata": {},
   "source": [
    "## Load Necessary Configration"
   ]
  },
  {
   "cell_type": "code",
   "execution_count": 7,
   "id": "6f13f546-42bf-4711-a75d-b5ee5192d0c6",
   "metadata": {},
   "outputs": [
    {
     "name": "stdout",
     "output_type": "stream",
     "text": [
      "2023-01-30 17:51:13.059 INFO 1372638304 - <module>: key='price-path-data/derived' loaded for name='price-paid-data/derived'\n",
      "2023-01-30 17:51:13.060 INFO 1372638304 - <module>: path_data=PosixPath('/media/josie/hdd/data/house-data/price-path-data/derived')\n",
      "2023-01-30 17:51:13.063 INFO 1372638304 - <module>: Using path_data_raw=PosixPath('/media/josie/hdd/data/house-data/price-paid-data/raw') for key_raw='price-paid-data/raw'\n"
     ]
    }
   ],
   "source": [
    "key = datamate.config.get_key_for_name(name=name)\n",
    "\n",
    "path_data = datamate.config.get_path_data_for_key(key=key)\n",
    "logger = datamate.logging.get_logger(key=key)\n",
    "\n",
    "logger.info(f\"{key=} loaded for {name=}\")\n",
    "logger.info(f\"{path_data=}\")\n",
    "\n",
    "key_raw = datamate.config.get_key_for_name(name=name_raw)\n",
    "path_data_raw = datamate.config.get_path_data_for_key(key=key_raw)\n",
    "\n",
    "logger.info(f\"Using {path_data_raw=} for {key_raw=}\")"
   ]
  },
  {
   "cell_type": "markdown",
   "id": "e276954e-bb3e-4677-8003-b40de5987481",
   "metadata": {},
   "source": [
    "## Data Information\n",
    "\n",
    "- Primary source of information is https://www.gov.uk/guidance/about-the-price-paid-data\n",
    "\n",
    "|Data item | Explanation (where appropriate)|\n",
    "| -- | -- |\n",
    "|Transaction unique identifier | A reference number which is generated automatically recording each published sale. The number is unique and will change each time a sale is recorded.|\n",
    "| Price\t| Sale price stated on the transfer deed.|\n",
    "| Date of Transfer| Date when the sale was completed, as stated on the transfer deed.|\n",
    "| Postcode | This is the postcode used at the time of the original transaction. Note that postcodes can be reallocated and these changes are not reflected in the Price Paid Dataset.|\n",
    "| Property Type | D = Detached, S = Semi-Detached, T = Terraced, F = Flats/Maisonettes, O = Other|\n",
    "|Old/New | Indicates the age of the property and applies to all price paid transactions, residential and non-residential. Y = a newly built property, N = an established residential building |\n",
    "|Duration | Relates to the tenure: F = Freehold, L= Leasehold etc.|\n",
    "|PAON | Primary Addressable Object Name. Typically the house number or name. |\n",
    "|SAON | Secondary Addressable Object Name. Where a property has been divided into separate units (for example, flats), the PAON (above) will identify the building and a SAON will be specified that identifies the separate unit/flat. |\n",
    "|Street | |\n",
    "|Locality | |\n",
    "|Town/City | |\n",
    "|District | |\n",
    "|County | |\n",
    "| PPD Category Type | Indicates the type of Price Paid transaction. A = Standard Price Paid entry, includes single residential property sold for value. B = Additional Price Paid entry including transfers under a power of sale/repossessions, buy-to-lets (where they can be identified by a Mortgage), transfers to non-private individuals and sales where the property type is classed as ‘Other’.|\n",
    "|Record Status - monthly file only |Indicates additions, changes and deletions to the records.(see guide below). A = Addition, C = Change, D = Delete|\n"
   ]
  },
  {
   "cell_type": "code",
   "execution_count": null,
   "id": "3d5e789f-7516-4c3b-8f79-71489f5dcdcc",
   "metadata": {},
   "outputs": [],
   "source": [
    "url_base = \"http://prod.publicdata.landregistry.gov.uk.s3-website-eu-west-1.amazonaws.com\"\n",
    "filename = \"pp-{year}.csv\"\n",
    "\n",
    "url_template = f\"{url_base}/{filename}\"\n",
    "\n",
    "year_earliest = 1995\n",
    "\n",
    "headers = [\n",
    "    \"Transaction unique identifier\",\n",
    "    \"Price\",\n",
    "    \"Date of Transfer\",\n",
    "    \"Postcode\",\n",
    "    \"Property Type\",\n",
    "    \"Old/New\",\n",
    "    \"Duration\",\n",
    "    \"PAON\",\n",
    "    \"SAON\",\n",
    "    \"Street\",\n",
    "    \"Locality\",\n",
    "    \"Town/City\",\n",
    "    \"District\",\n",
    "    \"County\",\n",
    "    \"PPD Category Type\",\n",
    "    \"Record Status - monthly file only\",\n",
    "]"
   ]
  },
  {
   "cell_type": "markdown",
   "id": "e0085111-65fd-4903-a6cc-99d7aadbe0f4",
   "metadata": {},
   "source": [
    "## Year"
   ]
  },
  {
   "cell_type": "code",
   "execution_count": null,
   "id": "ab21d5df-03d6-4aee-8534-9152106a2265",
   "metadata": {},
   "outputs": [],
   "source": [
    "year_today = datetime.datetime.now().year\n",
    "logger.info(f\"{year_today=}\")"
   ]
  },
  {
   "cell_type": "markdown",
   "id": "14da1ae0-b1e4-4c9d-91b3-946626164447",
   "metadata": {},
   "source": [
    "## Historical Data Pull"
   ]
  },
  {
   "cell_type": "code",
   "execution_count": null,
   "id": "2a66ce08-5583-450e-9190-0d790fa3e790",
   "metadata": {},
   "outputs": [],
   "source": [
    "path_headers = path_data.joinpath(\"headers.csv\")\n",
    "path_headers.write_text(\",\".join(f'\"{header}\"' for header in headers) + \"\\n\")\n",
    "logger.info(f\"Headers dumped to {path_headers=}\")\n",
    "\n",
    "for year in tqdm(range(year_earliest, year_today)):\n",
    "    url = url_template.format(year=year)\n",
    "    logger.info(f\"Reading {url=}\")\n",
    "    response = requests.get(url)\n",
    "    \n",
    "    path_file = path_data.joinpath(filename.format(year=year))\n",
    "    logger.info(f\"Dumping to {path_file=}\")\n",
    "    path_file.write_text(response.text)"
   ]
  }
 ],
 "metadata": {
  "kernelspec": {
   "display_name": "Python 3 (ipykernel)",
   "language": "python",
   "name": "python3"
  },
  "language_info": {
   "codemirror_mode": {
    "name": "ipython",
    "version": 3
   },
   "file_extension": ".py",
   "mimetype": "text/x-python",
   "name": "python",
   "nbconvert_exporter": "python",
   "pygments_lexer": "ipython3",
   "version": "3.10.9"
  }
 },
 "nbformat": 4,
 "nbformat_minor": 5
}
