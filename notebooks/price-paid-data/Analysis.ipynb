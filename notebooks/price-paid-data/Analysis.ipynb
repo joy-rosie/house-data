{
 "cells": [
  {
   "cell_type": "markdown",
   "id": "933245d1-163d-44d8-a9ff-14ed8043686a",
   "metadata": {},
   "source": [
    "## Imports"
   ]
  },
  {
   "cell_type": "code",
   "execution_count": null,
   "id": "c741fc0a-9d0c-4be1-bf97-7f89f173827f",
   "metadata": {},
   "outputs": [],
   "source": [
    "import datamate\n",
    "import pandas as pd\n",
    "import pictorial"
   ]
  },
  {
   "cell_type": "markdown",
   "id": "099d024b-a94c-42cf-88c5-c9e705038fc6",
   "metadata": {},
   "source": [
    "## Load Necessary Configration For Derived Data"
   ]
  },
  {
   "cell_type": "code",
   "execution_count": null,
   "id": "716f0ea0-a3f2-4578-b8ca-07a81c986b51",
   "metadata": {},
   "outputs": [],
   "source": [
    "name_derived = \"price-paid-data/derived\"\n",
    "key_derived = datamate.config.get_key_for_name(name=name_derived)\n",
    "path_data_derived = datamate.config.get_path_data_for_key(key=key_derived)"
   ]
  },
  {
   "cell_type": "markdown",
   "id": "872d179d-e64b-47f4-830f-728550d485cf",
   "metadata": {},
   "source": [
    "## Load Data"
   ]
  },
  {
   "cell_type": "code",
   "execution_count": null,
   "id": "2048b123-1d6c-422f-98e2-90dcfc7298e8",
   "metadata": {},
   "outputs": [],
   "source": [
    "%%time\n",
    "df = pd.read_parquet(path_data_derived.joinpath(\"data.parquet\"))"
   ]
  },
  {
   "cell_type": "code",
   "execution_count": null,
   "id": "79fa4068-c80d-4736-8b84-6493d4f00e42",
   "metadata": {},
   "outputs": [],
   "source": [
    "df.describe(include=\"category\")"
   ]
  },
  {
   "cell_type": "code",
   "execution_count": null,
   "id": "3883baa5-5fb1-43da-ba65-2e58b85f4f26",
   "metadata": {},
   "outputs": [],
   "source": [
    "pictorial.box(\n",
    "    df,\n",
    "    x='date',\n",
    "    y='price',\n",
    ")"
   ]
  }
 ],
 "metadata": {
  "kernelspec": {
   "display_name": "Python 3 (ipykernel)",
   "language": "python",
   "name": "python3"
  },
  "language_info": {
   "codemirror_mode": {
    "name": "ipython",
    "version": 3
   },
   "file_extension": ".py",
   "mimetype": "text/x-python",
   "name": "python",
   "nbconvert_exporter": "python",
   "pygments_lexer": "ipython3",
   "version": "3.10.9"
  }
 },
 "nbformat": 4,
 "nbformat_minor": 5
}
