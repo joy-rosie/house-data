{
 "cells": [
  {
   "cell_type": "markdown",
   "id": "933245d1-163d-44d8-a9ff-14ed8043686a",
   "metadata": {},
   "source": [
    "## Imports"
   ]
  },
  {
   "cell_type": "code",
   "execution_count": null,
   "id": "c741fc0a-9d0c-4be1-bf97-7f89f173827f",
   "metadata": {},
   "outputs": [],
   "source": [
    "import datamate\n",
    "import pandas as pd\n",
    "import pictorial"
   ]
  },
  {
   "cell_type": "markdown",
   "id": "099d024b-a94c-42cf-88c5-c9e705038fc6",
   "metadata": {},
   "source": [
    "## Load Necessary Configration For Derived Data"
   ]
  },
  {
   "cell_type": "code",
   "execution_count": null,
   "id": "716f0ea0-a3f2-4578-b8ca-07a81c986b51",
   "metadata": {},
   "outputs": [],
   "source": [
    "name_derived = \"price-paid-data/derived\"\n",
    "key_derived = datamate.config.get_key_for_name(name=name_derived)\n",
    "path_data_derived = datamate.config.get_path_data_for_key(key=key_derived)"
   ]
  },
  {
   "cell_type": "markdown",
   "id": "872d179d-e64b-47f4-830f-728550d485cf",
   "metadata": {},
   "source": [
    "## Load Data"
   ]
  },
  {
   "cell_type": "code",
   "execution_count": null,
   "id": "9f5c1856-2598-41db-8bb9-827463ac0e13",
   "metadata": {},
   "outputs": [],
   "source": [
    "columns_load = [\n",
    "    \"price\",\n",
    "    \"date\",\n",
    "    \"propertyType\",\n",
    "    \"buildType\",\n",
    "    \"ownershipType\",\n",
    "    \"townCity\",\n",
    "    \"county\",\n",
    "]\n",
    "\n",
    "filters = [\n",
    "    (\"transactionType\", \"==\", \"standard\"),\n",
    "]"
   ]
  },
  {
   "cell_type": "code",
   "execution_count": null,
   "id": "2048b123-1d6c-422f-98e2-90dcfc7298e8",
   "metadata": {},
   "outputs": [],
   "source": [
    "%%time\n",
    "df = (\n",
    "    pd.read_parquet(\n",
    "        path=path_data_derived.joinpath(\"data.parquet\"),\n",
    "        columns=columns_load,\n",
    "        filters=filters,\n",
    "    )\n",
    "    .assign(\n",
    "        year=lambda x: x[\"date\"].dt.to_period(\"Y\").dt.to_timestamp(),\n",
    "        month=lambda x: x[\"date\"].dt.month,\n",
    "        dayOfMonth=lambda x: x[\"date\"].dt.day,\n",
    "        count=1,\n",
    "    )\n",
    ")"
   ]
  },
  {
   "cell_type": "code",
   "execution_count": null,
   "id": "f44447d9-efe2-44f3-940b-850a6b0f23e3",
   "metadata": {},
   "outputs": [],
   "source": [
    "category_orders = {\n",
    "    column: sorted(df[column].unique()) for column in df.select_dtypes(include=\"category\")\n",
    "}\n",
    "\n",
    "df.describe(include=\"category\")"
   ]
  },
  {
   "cell_type": "code",
   "execution_count": null,
   "id": "3883baa5-5fb1-43da-ba65-2e58b85f4f26",
   "metadata": {},
   "outputs": [],
   "source": [
    "(\n",
    "    pictorial.box(\n",
    "        df,\n",
    "        x=\"year\",\n",
    "        y=\"price\",\n",
    "        sd=False,\n",
    "        category_orders=category_orders,\n",
    "    )\n",
    "    .update_yaxes(type=\"log\")\n",
    "    .update_layout(height=600)\n",
    ")"
   ]
  },
  {
   "cell_type": "code",
   "execution_count": null,
   "id": "1fd0a577-78f6-4f37-9c04-32d2292c0788",
   "metadata": {},
   "outputs": [],
   "source": [
    "(\n",
    "    pictorial.bar(\n",
    "        df,\n",
    "        x=\"month\",\n",
    "        y=\"count\",\n",
    "        category_orders=category_orders,\n",
    "    )\n",
    "    .update_layout(height=600)\n",
    ")"
   ]
  },
  {
   "cell_type": "code",
   "execution_count": null,
   "id": "7fa3c9a7-96dd-4dca-acc4-76ff3a523333",
   "metadata": {},
   "outputs": [],
   "source": [
    "(\n",
    "    pictorial.bar(\n",
    "        df,\n",
    "        x=\"dayOfMonth\",\n",
    "        y=\"count\",\n",
    "        category_orders=category_orders,\n",
    "    )\n",
    "    .update_layout(height=600)\n",
    ")"
   ]
  },
  {
   "cell_type": "code",
   "execution_count": null,
   "id": "f8ece3dc-4c83-4f92-85bb-05f9a6d2d8ec",
   "metadata": {},
   "outputs": [],
   "source": [
    "def plot_color(\n",
    "    df: pd.DataFrame,\n",
    "    color: str,\n",
    "):\n",
    "    (\n",
    "        pictorial.bar(\n",
    "            df,\n",
    "            x=\"year\",\n",
    "            color=color,\n",
    "            y=\"count\",\n",
    "            category_orders=category_orders,\n",
    "        )\n",
    "        .update_layout(height=600, title=f\"Count by {color}\")\n",
    "        .show()\n",
    "    )\n",
    "\n",
    "    (\n",
    "        pictorial.box(\n",
    "            df,\n",
    "            x=\"year\",\n",
    "            color=color,\n",
    "            y=\"price\",\n",
    "            sd=False,\n",
    "            category_orders=category_orders,\n",
    "        )\n",
    "        .update_yaxes(type=\"log\")\n",
    "        .update_layout(height=600, title=f\"Price distribution by {color}\")\n",
    "        .show()\n",
    "    )"
   ]
  },
  {
   "cell_type": "code",
   "execution_count": null,
   "id": "e05e137f-1d96-46c2-a290-60b1d0942f74",
   "metadata": {},
   "outputs": [],
   "source": [
    "plot_color(df=df, color=\"propertyType\")"
   ]
  },
  {
   "cell_type": "code",
   "execution_count": null,
   "id": "ac9ba0ab-0da5-4559-86ce-ea9557393152",
   "metadata": {},
   "outputs": [],
   "source": [
    "plot_color(df=df, color=\"buildType\")"
   ]
  },
  {
   "cell_type": "code",
   "execution_count": null,
   "id": "4ffb0c2e-2781-463f-845d-d5952bbd2dd8",
   "metadata": {},
   "outputs": [],
   "source": [
    "plot_color(df=df, color=\"ownershipType\")"
   ]
  },
  {
   "cell_type": "code",
   "execution_count": null,
   "id": "a5599b7c-7f64-46a6-872b-f702e0f94a73",
   "metadata": {},
   "outputs": [],
   "source": [
    "df[lambda x: x['buildType'] == \"new\"][lambda x: x['price'] == 1]"
   ]
  }
 ],
 "metadata": {
  "kernelspec": {
   "display_name": "Python 3 (ipykernel)",
   "language": "python",
   "name": "python3"
  },
  "language_info": {
   "codemirror_mode": {
    "name": "ipython",
    "version": 3
   },
   "file_extension": ".py",
   "mimetype": "text/x-python",
   "name": "python",
   "nbconvert_exporter": "python",
   "pygments_lexer": "ipython3",
   "version": "3.10.9"
  }
 },
 "nbformat": 4,
 "nbformat_minor": 5
}
