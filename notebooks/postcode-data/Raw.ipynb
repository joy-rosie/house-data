{
 "cells": [
  {
   "cell_type": "markdown",
   "id": "bcc704ba-d843-432f-b146-65c4e55a096c",
   "metadata": {},
   "source": [
    "## Imports"
   ]
  },
  {
   "cell_type": "code",
   "execution_count": 28,
   "id": "4a47f0ac-0967-4d29-b1de-198e85ed7871",
   "metadata": {},
   "outputs": [],
   "source": [
    "import datamate\n",
    "import requests\n",
    "import zipfile\n",
    "import pandas as pd"
   ]
  },
  {
   "cell_type": "markdown",
   "id": "6cab06c6-f42b-46e0-a1d1-e6ba02bebd16",
   "metadata": {},
   "source": [
    "## Name For This Data"
   ]
  },
  {
   "cell_type": "code",
   "execution_count": 2,
   "id": "3f971752-20d0-4d2e-bc2c-720b9c6cbca1",
   "metadata": {},
   "outputs": [],
   "source": [
    "name = \"postcode-data/raw\""
   ]
  },
  {
   "cell_type": "markdown",
   "id": "2e97c192-5d6b-4bf2-95f3-a571d7fd6747",
   "metadata": {},
   "source": [
    "## Load Necessary Configuration"
   ]
  },
  {
   "cell_type": "code",
   "execution_count": 3,
   "id": "6f13f546-42bf-4711-a75d-b5ee5192d0c6",
   "metadata": {},
   "outputs": [
    {
     "name": "stdout",
     "output_type": "stream",
     "text": [
      "2023-02-25 21:30:37.878 INFO 3421450029 - <module>: key='postcode-data/raw' loaded for name='postcode-data/raw'\n",
      "2023-02-25 21:30:37.878 INFO 3421450029 - <module>: path_data=PosixPath('/media/josie/hdd/data/house-data/postcode-data/raw')\n"
     ]
    }
   ],
   "source": [
    "key = datamate.config.get_key_for_name(name=name)\n",
    "\n",
    "path_data = datamate.config.get_path_data_for_key(key=key)\n",
    "logger = datamate.logging.get_logger(key=key)\n",
    "\n",
    "logger.info(f\"{key=} loaded for {name=}\")\n",
    "logger.info(f\"{path_data=}\")"
   ]
  },
  {
   "cell_type": "markdown",
   "id": "e276954e-bb3e-4677-8003-b40de5987481",
   "metadata": {},
   "source": [
    "## Data Information\n",
    "\n",
    "- Primary source of information is https://beta.ordnancesurvey.co.uk/products/code-point-open#technical"
   ]
  },
  {
   "cell_type": "code",
   "execution_count": 4,
   "id": "3d5e789f-7516-4c3b-8f79-71489f5dcdcc",
   "metadata": {},
   "outputs": [],
   "source": [
    "url = \"https://api.os.uk/downloads/v1/products/CodePointOpen/downloads?area=GB&format=CSV&redirect\"\n",
    "zip_foldername = \"codepo_gb.zip\"\n",
    "foldername = \"codepo_gb\""
   ]
  },
  {
   "cell_type": "markdown",
   "id": "14da1ae0-b1e4-4c9d-91b3-946626164447",
   "metadata": {},
   "source": [
    "## Historical Data Pull"
   ]
  },
  {
   "cell_type": "code",
   "execution_count": 5,
   "id": "2a66ce08-5583-450e-9190-0d790fa3e790",
   "metadata": {},
   "outputs": [
    {
     "name": "stdout",
     "output_type": "stream",
     "text": [
      "2023-02-25 21:30:42.104 INFO 3603449548 - <module>: Reading url='https://api.os.uk/downloads/v1/products/CodePointOpen/downloads?area=GB&format=CSV&redirect'\n",
      "2023-02-25 21:30:43.527 INFO 3603449548 - <module>: Dumping to path_file=PosixPath('/media/josie/hdd/data/house-data/postcode-data/raw/codepo_gb.zip')\n"
     ]
    },
    {
     "data": {
      "text/plain": [
       "14333014"
      ]
     },
     "execution_count": 5,
     "metadata": {},
     "output_type": "execute_result"
    }
   ],
   "source": [
    "logger.info(f\"Reading {url=}\")\n",
    "response = requests.get(url, allow_redirects=True)\n",
    "\n",
    "path_file = path_data.joinpath(zip_foldername)\n",
    "logger.info(f\"Dumping to {path_file=}\")\n",
    "path_file.write_bytes(response.content)"
   ]
  },
  {
   "cell_type": "code",
   "execution_count": 24,
   "id": "27720ac6-b33c-4126-ad75-b9dbba12f645",
   "metadata": {},
   "outputs": [
    {
     "data": {
      "text/plain": [
       "True"
      ]
     },
     "execution_count": 24,
     "metadata": {},
     "output_type": "execute_result"
    }
   ],
   "source": [
    "zipfile.is_zipfile(path_file)"
   ]
  },
  {
   "cell_type": "code",
   "execution_count": 41,
   "id": "887a2e7d-1638-4496-bc11-16d0006d0286",
   "metadata": {
    "tags": []
   },
   "outputs": [],
   "source": [
    "zip = zipfile.ZipFile(path_file)\n",
    "path_unzipped = path_data.joinpath(\"unzipped\")\n",
    "path_unzipped.mkdir(parents=True, exist_ok=True)"
   ]
  },
  {
   "cell_type": "code",
   "execution_count": 26,
   "id": "83f879e8-f20b-416c-b095-a8869b398398",
   "metadata": {},
   "outputs": [],
   "source": [
    "zip.extractall(path=path_unzipped, members=None, pwd=None)"
   ]
  },
  {
   "cell_type": "code",
   "execution_count": 27,
   "id": "2a8428db-751f-4641-9473-bcadfd3fb66b",
   "metadata": {},
   "outputs": [],
   "source": [
    "files = zip.namelist()\n",
    "headers = pd.read_csv(path_unzipped.joinpath(files[-6])).iloc[0].to_list()"
   ]
  }
 ],
 "metadata": {
  "kernelspec": {
   "display_name": "Python 3 (ipykernel)",
   "language": "python",
   "name": "python3"
  },
  "language_info": {
   "codemirror_mode": {
    "name": "ipython",
    "version": 3
   },
   "file_extension": ".py",
   "mimetype": "text/x-python",
   "name": "python",
   "nbconvert_exporter": "python",
   "pygments_lexer": "ipython3",
   "version": "3.10.9"
  }
 },
 "nbformat": 4,
 "nbformat_minor": 5
}
