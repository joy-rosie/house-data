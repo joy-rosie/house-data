{
 "cells": [
  {
   "cell_type": "markdown",
   "id": "3a46db9b-297a-48bf-bd0a-d36ed75f6426",
   "metadata": {},
   "source": [
    "## Imports"
   ]
  },
  {
   "cell_type": "code",
   "execution_count": null,
   "id": "4aa2177b-1bf6-42d9-92bc-8a9475d3f447",
   "metadata": {},
   "outputs": [],
   "source": [
    "from pathlib import Path\n",
    "import os\n",
    "import datamate\n",
    "import pandas as pd\n",
    "from tqdm.notebook import tqdm\n",
    "from convertbng.cutil import convert_bng, convert_lonlat"
   ]
  },
  {
   "cell_type": "markdown",
   "id": "b4ac9f72-e0f0-4093-ba3f-62f7cde07a63",
   "metadata": {},
   "source": [
    "## Name For This Data"
   ]
  },
  {
   "cell_type": "code",
   "execution_count": null,
   "id": "b9120d20-a59c-47b9-b07e-dd7014f8dc37",
   "metadata": {},
   "outputs": [],
   "source": [
    "name = \"postcode-data/derived\"\n",
    "name_raw = \"postcode-data/raw\""
   ]
  },
  {
   "cell_type": "markdown",
   "id": "12f9719c-f531-45a1-9139-2f1a6ba45247",
   "metadata": {},
   "source": [
    "## Load Necessary Configuration"
   ]
  },
  {
   "cell_type": "code",
   "execution_count": null,
   "id": "5b3b3202-38bb-4e82-b133-a7799ca331b6",
   "metadata": {},
   "outputs": [],
   "source": [
    "key = datamate.config.get_key_for_name(name=name)\n",
    "\n",
    "path_data = datamate.config.get_path_data_for_key(key=key)\n",
    "logger = datamate.logging.get_logger(key=key)\n",
    "\n",
    "logger.info(f\"{key=} loaded for {name=}\")\n",
    "logger.info(f\"{path_data=}\")\n",
    "\n",
    "key_raw = datamate.config.get_key_for_name(name=name_raw)\n",
    "path_data_raw = datamate.config.get_path_data_for_key(key=key_raw)\n",
    "\n",
    "logger.info(f\"Using {path_data_raw=} for {key_raw=}\")"
   ]
  },
  {
   "cell_type": "markdown",
   "id": "63d3b06b-c93a-4e37-bf27-ba8570f14350",
   "metadata": {},
   "source": [
    "## Data Information\n",
    "\n",
    "- Primary source of information is https://beta.ordnancesurvey.co.uk/products/code-point-open#technical\n",
    "\n",
    "- The coordinates for postcodes in Great Britain (England, Wales, and Scotland) are provided in British National Grid (BNG). BNG uses the OSGB36 (EPSG 27700) geodetic datum and a single Transverse Mercator projection for the whole of Great Britain. Positions on this projection are described using Easting and Northing coordinates in units of metres. The BNG is a horizontal spatial reference system only; it does not specify a vertical (height) reference system.\n",
    "\n",
    "|Data item | Explanation (where appropriate)|\n",
    "| -- | -- |\n",
    "|Postcode | A UK Postcode |\n",
    "| Positional_quality_indicator | The accuracy of each postcode unit coordinate pair is defined by the Positional Quality indicator (PQI), which provides a quality statement for the position of that Code-Point Open record. There are seven PQI values for the positional quality. A lower positional quality indicator will be allocated to postcode units awaiting a surveyed position, or which relate to addresses that do not have a surveyed position. Full details of the PQI can be found in the product's Technical Specification, which is available from the Code-Point Open Product Support page on the OS website (https://www.ordnancesurvey.co.uk/businessgovernment/tools-support/code-point-open-support). |\n",
    "| Eastings | Distance in metres east of National Grid origin.  |\n",
    "| Northings | Distance in metres north of National Grid origin. |\n",
    "| Country_code | Code used by the Office for National Statistics (ONS) to identify the country in which  the Code-Point Open georeferenced coordinates lies. |\n",
    "| NHS_regional_HA_code | English Pan Strategic Health Authority in which Code-Point Location Coordinate (CPLC) falls. |\n",
    "| NHS_HA_code | (Health Authority) English Strategic Health Authority or Scottish Health Board in which CPLC falls. |\n",
    "| Admin_county_code | County in which CPLC falls. |\n",
    "| Admin_district_code | Unitary Authority, Metropolitan and Non-Metropolitan District, London Borough, or Scottish Council Area in which CPLC falls. |\n",
    "| Admin_ward_code | Electoral Ward or Division in which CPLC falls. |\n",
    "\n"
   ]
  },
  {
   "cell_type": "code",
   "execution_count": null,
   "id": "00ae2c90-4b23-43fc-9d08-6619b56e5984",
   "metadata": {},
   "outputs": [],
   "source": [
    "csv_filenames = os.listdir(path_data_raw.joinpath(\"unzipped/data/CSV\"))\n",
    "categories = [x.split('.')[0] for x in csv_filenames]"
   ]
  },
  {
   "cell_type": "code",
   "execution_count": null,
   "id": "2b12b2a8-32e3-4d94-9a95-6af35ef98fef",
   "metadata": {},
   "outputs": [],
   "source": [
    "headers = pd.read_csv(path_data_raw.joinpath(\"unzipped/Doc/Code-Point_Open_Column_Headers.csv\")).iloc[0].to_list()"
   ]
  },
  {
   "cell_type": "code",
   "execution_count": null,
   "id": "d314c0cf-cbd4-41f3-8931-864dfa3ee364",
   "metadata": {},
   "outputs": [],
   "source": [
    "df_list = [pd.read_csv(path_data_raw.joinpath(f\"unzipped/data/CSV/{x}\"), names=headers) for x in csv_filenames]"
   ]
  },
  {
   "cell_type": "code",
   "execution_count": null,
   "id": "19cf6f9d-7c93-46a8-b537-6bb203fe0b30",
   "metadata": {},
   "outputs": [],
   "source": [
    "for index, df in enumerate(df_list):\n",
    "    df['File'] = categories[index]\n",
    "    df['File'] = pd.Categorical(df['File'], categories=categories)"
   ]
  },
  {
   "cell_type": "code",
   "execution_count": null,
   "id": "75b5c9fa-971d-4741-8796-92a52143bf29",
   "metadata": {},
   "outputs": [],
   "source": [
    "%%time\n",
    "\n",
    "for df in df_list:\n",
    "    df['Longitude'], df['Latitude'] = convert_lonlat(df['Eastings'].values, df['Northings'].values)"
   ]
  },
  {
   "cell_type": "code",
   "execution_count": null,
   "id": "b4c93a96-67d3-4cd5-846a-42cb5479e495",
   "metadata": {},
   "outputs": [],
   "source": [
    "postcodes = pd.concat(df_list)"
   ]
  },
  {
   "cell_type": "code",
   "execution_count": null,
   "id": "e07c77f0-be2e-4998-a96d-7f53a37f369d",
   "metadata": {},
   "outputs": [],
   "source": [
    "postcodes.to_csv(path_data.joinpath(\"derived.csv\"))"
   ]
  },
  {
   "cell_type": "code",
   "execution_count": null,
   "id": "41455bce-d3f3-478e-bdc6-5224e0d5dd2c",
   "metadata": {},
   "outputs": [],
   "source": [
    "logger.info(f\"{postcodes.columns=}\")\n",
    "logger.info(f\"{postcodes.memory_usage().sum()=:,}\")\n",
    "logger.info(f\"\"\"{postcodes.describe()=\n",
    "}\"\"\")\n",
    "logger.info(f\"\"\"{postcodes.describe(include='category')=\n",
    "}\"\"\")"
   ]
  },
  {
   "cell_type": "code",
   "execution_count": null,
   "id": "753338d0-e114-4825-a911-c240f90e09e6",
   "metadata": {},
   "outputs": [],
   "source": []
  }
 ],
 "metadata": {
  "kernelspec": {
   "display_name": "Python 3 (ipykernel)",
   "language": "python",
   "name": "python3"
  },
  "language_info": {
   "codemirror_mode": {
    "name": "ipython",
    "version": 3
   },
   "file_extension": ".py",
   "mimetype": "text/x-python",
   "name": "python",
   "nbconvert_exporter": "python",
   "pygments_lexer": "ipython3",
   "version": "3.10.9"
  }
 },
 "nbformat": 4,
 "nbformat_minor": 5
}
