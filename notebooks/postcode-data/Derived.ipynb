{
 "cells": [
  {
   "cell_type": "code",
   "execution_count": 31,
   "id": "4aa2177b-1bf6-42d9-92bc-8a9475d3f447",
   "metadata": {},
   "outputs": [],
   "source": [
    "from pathlib import Path\n",
    "import os\n",
    "import datamate\n",
    "import pandas as pd\n",
    "from tqdm.notebook import tqdm"
   ]
  },
  {
   "cell_type": "markdown",
   "id": "b4ac9f72-e0f0-4093-ba3f-62f7cde07a63",
   "metadata": {},
   "source": [
    "## Name For This Data"
   ]
  },
  {
   "cell_type": "code",
   "execution_count": 2,
   "id": "b9120d20-a59c-47b9-b07e-dd7014f8dc37",
   "metadata": {},
   "outputs": [],
   "source": [
    "name = \"postcode-data/derived\"\n",
    "name_raw = \"postcode-data/raw\""
   ]
  },
  {
   "cell_type": "markdown",
   "id": "12f9719c-f531-45a1-9139-2f1a6ba45247",
   "metadata": {},
   "source": [
    "## Load Necessary Configuration"
   ]
  },
  {
   "cell_type": "code",
   "execution_count": 6,
   "id": "5b3b3202-38bb-4e82-b133-a7799ca331b6",
   "metadata": {},
   "outputs": [
    {
     "name": "stdout",
     "output_type": "stream",
     "text": [
      "2023-03-01 19:14:58.621 INFO 1372638304 - <module>: key='postcode-data/derived' loaded for name='postcode-data/derived'\n",
      "2023-03-01 19:14:58.623 INFO 1372638304 - <module>: path_data=PosixPath('/media/josie/hdd/data/house-data/postcode-data/derived')\n",
      "2023-03-01 19:14:58.626 INFO 1372638304 - <module>: Using path_data_raw=PosixPath('/media/josie/hdd/data/house-data/postcode-data/raw') for key_raw='postcode-data/raw'\n"
     ]
    }
   ],
   "source": [
    "key = datamate.config.get_key_for_name(name=name)\n",
    "\n",
    "path_data = datamate.config.get_path_data_for_key(key=key)\n",
    "logger = datamate.logging.get_logger(key=key)\n",
    "\n",
    "logger.info(f\"{key=} loaded for {name=}\")\n",
    "logger.info(f\"{path_data=}\")\n",
    "\n",
    "key_raw = datamate.config.get_key_for_name(name=name_raw)\n",
    "path_data_raw = datamate.config.get_path_data_for_key(key=key_raw)\n",
    "\n",
    "logger.info(f\"Using {path_data_raw=} for {key_raw=}\")"
   ]
  },
  {
   "cell_type": "markdown",
   "id": "63d3b06b-c93a-4e37-bf27-ba8570f14350",
   "metadata": {},
   "source": [
    "## Data Information\n",
    "\n",
    "- Primary source of information is https://beta.ordnancesurvey.co.uk/products/code-point-open#technical\n",
    "\n",
    "- The coordinates for postcodes in Great Britain (England, Wales, and Scotland) are provided in British National Grid (BNG). BNG uses the OSGB36 (EPSG 27700) geodetic datum and a single Transverse Mercator projection for the whole of Great Britain. Positions on this projection are described using Easting and Northing coordinates in units of metres. The BNG is a horizontal spatial reference system only; it does not specify a vertical (height) reference system.\n",
    "\n",
    "|Data item | Explanation (where appropriate)|\n",
    "| -- | -- |\n",
    "|Postcode | A UK Postcode |\n",
    "| Positional_quality_indicator | The accuracy of each postcode unit coordinate pair is defined by the Positional Quality indicator (PQI), which provides a quality statement for the position of that Code-Point Open record. There are seven PQI values for the positional quality. A lower positional quality indicator will be allocated to postcode units awaiting a surveyed position, or which relate to addresses that do not have a surveyed position. Full details of the PQI can be found in the product's Technical Specification, which is available from the Code-Point Open Product Support page on the OS website (https://www.ordnancesurvey.co.uk/businessgovernment/tools-support/code-point-open-support). |\n",
    "| Eastings | Distance in metres east of National Grid origin.  |\n",
    "| Northings | Distance in metres north of National Grid origin. |\n",
    "| Country_code | Code used by the Office for National Statistics (ONS) to identify the country in which  the Code-Point Open georeferenced coordinates lies. |\n",
    "| NHS_regional_HA_code | English Pan Strategic Health Authority in which Code-Point Location Coordinate (CPLC) falls. |\n",
    "| NHS_HA_code | (Health Authority) English Strategic Health Authority or Scottish Health Board in which CPLC falls. |\n",
    "| Admin_county_code | County in which CPLC falls. |\n",
    "| Admin_district_code | Unitary Authority, Metropolitan and Non-Metropolitan District, London Borough, or Scottish Council Area in which CPLC falls. |\n",
    "| Admin_ward_code | Electoral Ward or Division in which CPLC falls. |\n",
    "\n"
   ]
  },
  {
   "cell_type": "code",
   "execution_count": 8,
   "id": "00ae2c90-4b23-43fc-9d08-6619b56e5984",
   "metadata": {},
   "outputs": [],
   "source": [
    "csv_filenames = os.listdir(path_data_raw.joinpath(\"unzipped/data/CSV\"))\n",
    "categories = [x.split('.')[0] for x in csv_filenames]"
   ]
  },
  {
   "cell_type": "code",
   "execution_count": 9,
   "id": "2b12b2a8-32e3-4d94-9a95-6af35ef98fef",
   "metadata": {},
   "outputs": [],
   "source": [
    "headers = pd.read_csv(path_data_raw.joinpath(\"unzipped/Doc/Code-Point_Open_Column_Headers.csv\")).iloc[0].to_list()"
   ]
  },
  {
   "cell_type": "code",
   "execution_count": 10,
   "id": "d314c0cf-cbd4-41f3-8931-864dfa3ee364",
   "metadata": {},
   "outputs": [],
   "source": [
    "df_list = [pd.read_csv(path_data_raw.joinpath(f\"unzipped/data/CSV/{x}\"), names=headers) for x in csv_filenames]"
   ]
  },
  {
   "cell_type": "code",
   "execution_count": 27,
   "id": "19cf6f9d-7c93-46a8-b537-6bb203fe0b30",
   "metadata": {},
   "outputs": [],
   "source": [
    "for index, df in enumerate(df_list):\n",
    "    df['File'] = categories[index]\n",
    "    df['File'] = pd.Categorical(df['File'], categories=categories)"
   ]
  },
  {
   "cell_type": "code",
   "execution_count": 28,
   "id": "b4c93a96-67d3-4cd5-846a-42cb5479e495",
   "metadata": {},
   "outputs": [],
   "source": [
    "postcodes = pd.concat(df_list)"
   ]
  },
  {
   "cell_type": "code",
   "execution_count": 32,
   "id": "e07c77f0-be2e-4998-a96d-7f53a37f369d",
   "metadata": {},
   "outputs": [],
   "source": [
    "postcodes.to_csv(path_data.joinpath(\"derived.csv\"))"
   ]
  },
  {
   "cell_type": "code",
   "execution_count": 33,
   "id": "41455bce-d3f3-478e-bdc6-5224e0d5dd2c",
   "metadata": {},
   "outputs": [
    {
     "name": "stdout",
     "output_type": "stream",
     "text": [
      "2023-03-01 20:01:49.872 INFO 1280416684 - <module>: postcodes.columns=Index(['Postcode', 'Positional_quality_indicator', 'Eastings', 'Northings',\n",
      "       'Country_code', 'NHS_regional_HA_code', 'NHS_HA_code',\n",
      "       'Admin_county_code', 'Admin_district_code', 'Admin_ward_code', 'File'],\n",
      "      dtype='object')\n",
      "2023-03-01 20:01:49.875 INFO 1280416684 - <module>: postcodes.memory_usage().sum()=154,152,149\n",
      "2023-03-01 20:01:50.048 INFO 1280416684 - <module>: postcodes.describe()=\n",
      "       Positional_quality_indicator      Eastings     Northings\n",
      "count                  1.731989e+06  1.731989e+06  1.731989e+06\n",
      "mean                   1.014623e+01  4.281732e+05  3.130745e+05\n",
      "std                    2.693992e+00  1.003995e+05  1.761264e+05\n",
      "min                    1.000000e+01  0.000000e+00  0.000000e+00\n",
      "25%                    1.000000e+01  3.586950e+05  1.786830e+05\n",
      "50%                    1.000000e+01  4.298610e+05  2.787650e+05\n",
      "75%                    1.000000e+01  5.135090e+05  4.072740e+05\n",
      "max                    9.000000e+01  6.555930e+05  1.213615e+06\n",
      "2023-03-01 20:01:50.065 INFO 1280416684 - <module>: postcodes.describe(include='category')=\n",
      "           File\n",
      "count   1731989\n",
      "unique      120\n",
      "top           b\n",
      "freq      41824\n"
     ]
    }
   ],
   "source": [
    "logger.info(f\"{postcodes.columns=}\")\n",
    "logger.info(f\"{postcodes.memory_usage().sum()=:,}\")\n",
    "logger.info(f\"\"\"{postcodes.describe()=\n",
    "}\"\"\")\n",
    "logger.info(f\"\"\"{postcodes.describe(include='category')=\n",
    "}\"\"\")"
   ]
  }
 ],
 "metadata": {
  "kernelspec": {
   "display_name": "Python 3 (ipykernel)",
   "language": "python",
   "name": "python3"
  },
  "language_info": {
   "codemirror_mode": {
    "name": "ipython",
    "version": 3
   },
   "file_extension": ".py",
   "mimetype": "text/x-python",
   "name": "python",
   "nbconvert_exporter": "python",
   "pygments_lexer": "ipython3",
   "version": "3.10.9"
  }
 },
 "nbformat": 4,
 "nbformat_minor": 5
}
