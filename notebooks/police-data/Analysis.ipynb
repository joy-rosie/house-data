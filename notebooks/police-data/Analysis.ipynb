{
 "cells": [
  {
   "cell_type": "markdown",
   "id": "933245d1-163d-44d8-a9ff-14ed8043686a",
   "metadata": {},
   "source": [
    "## Imports"
   ]
  },
  {
   "cell_type": "code",
   "execution_count": null,
   "id": "c741fc0a-9d0c-4be1-bf97-7f89f173827f",
   "metadata": {},
   "outputs": [],
   "source": [
    "import datamate\n",
    "import geopandas as gpd\n",
    "import pandas as pd\n",
    "import pictorial\n",
    "import plotly.express as px"
   ]
  },
  {
   "cell_type": "markdown",
   "id": "099d024b-a94c-42cf-88c5-c9e705038fc6",
   "metadata": {},
   "source": [
    "## Load Necessary Configration For Derived Data"
   ]
  },
  {
   "cell_type": "code",
   "execution_count": null,
   "id": "716f0ea0-a3f2-4578-b8ca-07a81c986b51",
   "metadata": {},
   "outputs": [],
   "source": [
    "name_derived = \"police-data/derived\"\n",
    "key_derived = datamate.config.get_key_for_name(name=name_derived)\n",
    "path_data_derived = datamate.config.get_path_data_for_key(key=key_derived)"
   ]
  },
  {
   "cell_type": "markdown",
   "id": "872d179d-e64b-47f4-830f-728550d485cf",
   "metadata": {},
   "source": [
    "## Load Data"
   ]
  },
  {
   "cell_type": "code",
   "execution_count": null,
   "id": "9f5c1856-2598-41db-8bb9-827463ac0e13",
   "metadata": {},
   "outputs": [],
   "source": [
    "columns_load = [\n",
    "    \"date\",\n",
    "    \"crimeType\",\n",
    "    \"longitude\",\n",
    "    \"latitude\",\n",
    "    \"location\",\n",
    "    \"lsoaCode\",\n",
    "    \"lsoaName\",\n",
    "    \"policeForce\",\n",
    "]\n",
    "\n",
    "filters = [\n",
    "    (\"year\", \">\", 2018),\n",
    "]"
   ]
  },
  {
   "cell_type": "code",
   "execution_count": null,
   "id": "2048b123-1d6c-422f-98e2-90dcfc7298e8",
   "metadata": {},
   "outputs": [],
   "source": [
    "%%time\n",
    "df = (\n",
    "    pd.read_parquet(\n",
    "        path=path_data_derived.joinpath(\"data.parquet\"),\n",
    "        columns=columns_load,\n",
    "        filters=filters,\n",
    "    )\n",
    "    .assign(\n",
    "        year=lambda x: x[\"date\"].dt.to_period(\"Y\").dt.to_timestamp(),\n",
    "        month=lambda x: x[\"date\"].dt.month,\n",
    "        dayOfMonth=lambda x: x[\"date\"].dt.day,\n",
    "        count=1,\n",
    "    )\n",
    ")"
   ]
  },
  {
   "cell_type": "code",
   "execution_count": null,
   "id": "daeba63a-e034-4de3-9916-4779963d4206",
   "metadata": {},
   "outputs": [],
   "source": [
    "df.describe(include=\"category\")\n",
    "\n",
    "category_orders = {\n",
    "    column: df.groupby(column)[\"count\"].sum().sort_values(ascending=False).index.tolist() \n",
    "    for column in df.select_dtypes(include=\"category\")\n",
    "}\n",
    "print(f\"{category_orders}\")"
   ]
  },
  {
   "cell_type": "code",
   "execution_count": null,
   "id": "3883baa5-5fb1-43da-ba65-2e58b85f4f26",
   "metadata": {},
   "outputs": [],
   "source": [
    "(\n",
    "    pictorial.bar(\n",
    "        df,\n",
    "        x=\"year\",\n",
    "        color=\"policeForce\",\n",
    "        y=\"count\",\n",
    "        category_orders=category_orders,\n",
    "    )\n",
    "    .update_layout(height=600)\n",
    ")"
   ]
  },
  {
   "cell_type": "code",
   "execution_count": null,
   "id": "1fd0a577-78f6-4f37-9c04-32d2292c0788",
   "metadata": {},
   "outputs": [],
   "source": [
    "(\n",
    "    pictorial.bar(\n",
    "        df,\n",
    "        x=\"year\",\n",
    "        color=\"crimeType\",\n",
    "        y=\"count\",\n",
    "        category_orders=category_orders,\n",
    "    )\n",
    "    .update_layout(height=600)\n",
    ")"
   ]
  },
  {
   "cell_type": "code",
   "execution_count": null,
   "id": "d013b5a2-e284-47ff-b4f5-3316091f53c6",
   "metadata": {},
   "outputs": [],
   "source": [
    "(\n",
    "    pictorial.bar(\n",
    "        df,\n",
    "        x=\"month\",\n",
    "        y=\"count\",\n",
    "        color=\"crimeType\",\n",
    "        category_orders=category_orders,\n",
    "    )\n",
    "    .update_layout(height=600)\n",
    ")"
   ]
  },
  {
   "cell_type": "code",
   "execution_count": null,
   "id": "15eb6e3e-56eb-4cbb-afe3-4eea7c666590",
   "metadata": {},
   "outputs": [],
   "source": [
    "# response = requests.get(\"https://github.com/gausie/LSOA-2011-GeoJSON/raw/master/lsoa.geojson\")"
   ]
  },
  {
   "cell_type": "code",
   "execution_count": null,
   "id": "23061776-5314-49d4-892f-6bbf507250b7",
   "metadata": {},
   "outputs": [],
   "source": [
    "# geometry = response.text"
   ]
  },
  {
   "cell_type": "code",
   "execution_count": null,
   "id": "02202349-3c3f-4be7-ab8a-a86976bbda8d",
   "metadata": {},
   "outputs": [],
   "source": [
    "df_geo = (\n",
    "    gpd.read_file(\"https://github.com/gausie/LSOA-2011-GeoJSON/raw/master/lsoa.geojson\")\n",
    ")"
   ]
  },
  {
   "cell_type": "code",
   "execution_count": null,
   "id": "6672e879-761a-42db-a0f7-08efbb6454b8",
   "metadata": {},
   "outputs": [],
   "source": [
    "# df_plot = (\n",
    "#     df\n",
    "#     [lambda x: x[\"policeForce\"] == \"metropolitan\"]\n",
    "#     .value_counts([\"year\", \"lsoaCode\"])\n",
    "#     .rename(\"count\")\n",
    "#     .reset_index()\n",
    "#     .assign(year=lambda x: x[\"year\"].dt.year)\n",
    "#     .head(1000)\n",
    "# )"
   ]
  },
  {
   "cell_type": "code",
   "execution_count": null,
   "id": "c3230ab6-214f-4568-ac90-db4f103a9026",
   "metadata": {},
   "outputs": [],
   "source": [
    "import numpy as np"
   ]
  },
  {
   "cell_type": "code",
   "execution_count": null,
   "id": "bbbd5e82-d546-43ac-87ff-2ac81f054cd5",
   "metadata": {},
   "outputs": [],
   "source": [
    "df_plot = (\n",
    "    df_geo\n",
    "    .merge(\n",
    "        (\n",
    "            df\n",
    "            [lambda x: x[\"crimeType\"] == \"violence-and-sexual-offences\"]\n",
    "            .rename(columns={\"lsoaCode\": \"LSOA11CD\"})\n",
    "            .value_counts(\"LSOA11CD\")\n",
    "            .rename(\"count\")\n",
    "            .reset_index()\n",
    "            .assign(logCount=lambda x: np.log(x[\"count\"]))\n",
    "        ),\n",
    "        on=\"LSOA11CD\",\n",
    "    )\n",
    "    # .assign(year=lambda x: x[\"year\"].dt.year)\n",
    "    # .head(1000)\n",
    ")\n",
    "\n",
    "df_plot"
   ]
  },
  {
   "cell_type": "code",
   "execution_count": null,
   "id": "ec820c85-6a86-4391-acdc-13c5eaea132b",
   "metadata": {},
   "outputs": [],
   "source": [
    "df_plot.explore(column=\"logCount\")"
   ]
  },
  {
   "cell_type": "code",
   "execution_count": null,
   "id": "0cc1e775-a048-4e59-ac6d-fb0e63900e4a",
   "metadata": {},
   "outputs": [],
   "source": [
    "# df_plot.explore(column=\"count\")"
   ]
  },
  {
   "cell_type": "code",
   "execution_count": null,
   "id": "a90ffc8c-5acd-4a85-b71e-4f3b61cc67c1",
   "metadata": {},
   "outputs": [],
   "source": [
    "fig = px.choropleth(\n",
    "    df_plot,\n",
    "    color=\"count\",\n",
    "    locations=\"lsoaCode\",\n",
    "    featureidkey=\"properties.LSOA11CD\",\n",
    "    animation_frame=\"year\",\n",
    "    geojson=geometry,\n",
    ")"
   ]
  },
  {
   "cell_type": "code",
   "execution_count": null,
   "id": "a5e89892-f36d-4b7f-8bee-c6de21deab0a",
   "metadata": {},
   "outputs": [],
   "source": [
    "fig.show()"
   ]
  },
  {
   "cell_type": "code",
   "execution_count": null,
   "id": "1bc86182-b8fc-4fb1-a067-6cbcef34c7c5",
   "metadata": {},
   "outputs": [],
   "source": [
    "# from urllib.request import urlopen\n",
    "# import json\n",
    "# with urlopen('https://raw.githubusercontent.com/plotly/datasets/master/geojson-counties-fips.json') as response:\n",
    "#     counties = gpd.read_file(response)\n",
    "\n",
    "# import pandas as pd\n",
    "# df = pd.read_csv(\"https://raw.githubusercontent.com/plotly/datasets/master/fips-unemp-16.csv\",\n",
    "#                    dtype={\"fips\": str})\n",
    "\n",
    "# import plotly.express as px\n",
    "\n",
    "# fig_plotly = px.choropleth(df, geojson=counties.geometry, locations='fips', color='unemp',\n",
    "#                            color_continuous_scale=\"Viridis\",\n",
    "#                            range_color=(0, 12),\n",
    "#                            scope=\"usa\",\n",
    "#                            labels={'unemp':'unemployment rate'}\n",
    "#                           )\n",
    "# fig_plotly.update_layout(margin={\"r\":0,\"t\":0,\"l\":0,\"b\":0})\n",
    "# # fig_plotly.show()"
   ]
  },
  {
   "cell_type": "code",
   "execution_count": null,
   "id": "2718fd33-4f1a-4cee-afed-c1f824e39dbb",
   "metadata": {},
   "outputs": [],
   "source": [
    "df_plot[\"geometry\"].iloc[5]"
   ]
  },
  {
   "cell_type": "code",
   "execution_count": null,
   "id": "ac82242d-f0a7-4293-a4a4-18919f47634e",
   "metadata": {},
   "outputs": [],
   "source": [
    "type(df_plot)"
   ]
  }
 ],
 "metadata": {
  "kernelspec": {
   "display_name": "Python 3 (ipykernel)",
   "language": "python",
   "name": "python3"
  },
  "language_info": {
   "codemirror_mode": {
    "name": "ipython",
    "version": 3
   },
   "file_extension": ".py",
   "mimetype": "text/x-python",
   "name": "python",
   "nbconvert_exporter": "python",
   "pygments_lexer": "ipython3",
   "version": "3.10.9"
  }
 },
 "nbformat": 4,
 "nbformat_minor": 5
}
