{
 "cells": [
  {
   "cell_type": "markdown",
   "id": "bcc704ba-d843-432f-b146-65c4e55a096c",
   "metadata": {},
   "source": [
    "## Imports"
   ]
  },
  {
   "cell_type": "code",
   "execution_count": null,
   "id": "4a47f0ac-0967-4d29-b1de-198e85ed7871",
   "metadata": {},
   "outputs": [],
   "source": [
    "import datetime\n",
    "\n",
    "import datamate\n",
    "import pandas as pd\n",
    "import requests\n",
    "from tqdm.notebook import tqdm"
   ]
  },
  {
   "cell_type": "markdown",
   "id": "6cab06c6-f42b-46e0-a1d1-e6ba02bebd16",
   "metadata": {},
   "source": [
    "## Name For This Data"
   ]
  },
  {
   "cell_type": "code",
   "execution_count": null,
   "id": "3f971752-20d0-4d2e-bc2c-720b9c6cbca1",
   "metadata": {},
   "outputs": [],
   "source": [
    "name = \"police-data/raw\""
   ]
  },
  {
   "cell_type": "markdown",
   "id": "2e97c192-5d6b-4bf2-95f3-a571d7fd6747",
   "metadata": {},
   "source": [
    "## Load Necessary Configration"
   ]
  },
  {
   "cell_type": "code",
   "execution_count": null,
   "id": "6f13f546-42bf-4711-a75d-b5ee5192d0c6",
   "metadata": {},
   "outputs": [],
   "source": [
    "key = datamate.config.get_key_for_name(name=name)\n",
    "\n",
    "path_data = datamate.config.get_path_data_for_key(key=key)\n",
    "logger = datamate.logging.get_logger(key=key)\n",
    "\n",
    "logger.info(f\"{key=} loaded for {name=}\")\n",
    "logger.info(f\"{path_data=}\")"
   ]
  },
  {
   "cell_type": "markdown",
   "id": "e276954e-bb3e-4677-8003-b40de5987481",
   "metadata": {},
   "source": [
    "## Data Information\n",
    "\n",
    "- Primary source of information is https://data.police.uk/about/#columns\n",
    "- Data location information is at https://data.police.uk/data/archive/"
   ]
  },
  {
   "cell_type": "code",
   "execution_count": null,
   "id": "3d5e789f-7516-4c3b-8f79-71489f5dcdcc",
   "metadata": {},
   "outputs": [],
   "source": [
    "url_base = \"https://data.police.uk/data/archive\"\n",
    "filename = \"{date:%Y-%m}.zip\"\n",
    "\n",
    "url_template = f\"{url_base}/{filename}\"\n",
    "\n",
    "date_earliest = pd.Timestamp(\"2013-12-01\")"
   ]
  },
  {
   "cell_type": "markdown",
   "id": "e0085111-65fd-4903-a6cc-99d7aadbe0f4",
   "metadata": {},
   "source": [
    "## Three Months Ago"
   ]
  },
  {
   "cell_type": "code",
   "execution_count": null,
   "id": "ab21d5df-03d6-4aee-8534-9152106a2265",
   "metadata": {},
   "outputs": [],
   "source": [
    "month_three_away = pd.Timestamp.now().normalize() - pd.offsets.BMonthBegin(3)\n",
    "logger.info(f\"{month_three_away=}\")"
   ]
  },
  {
   "cell_type": "markdown",
   "id": "14da1ae0-b1e4-4c9d-91b3-946626164447",
   "metadata": {},
   "source": [
    "## Historical Data Pull"
   ]
  },
  {
   "cell_type": "code",
   "execution_count": null,
   "id": "2a66ce08-5583-450e-9190-0d790fa3e790",
   "metadata": {},
   "outputs": [],
   "source": [
    "for date in tqdm(pd.date_range(start=date_earliest, end=month_three_away, freq=\"MS\")):\n",
    "    url = url_template.format(date=date)\n",
    "    logger.info(f\"Reading {url=}\")\n",
    "    response = requests.get(url)\n",
    "    \n",
    "    path_file = path_data.joinpath(filename.format(date=date))\n",
    "    logger.info(f\"Dumping to {path_file=}\")\n",
    "    path_file.write_bytes(response.content)"
   ]
  }
 ],
 "metadata": {
  "kernelspec": {
   "display_name": "Python 3 (ipykernel)",
   "language": "python",
   "name": "python3"
  },
  "language_info": {
   "codemirror_mode": {
    "name": "ipython",
    "version": 3
   },
   "file_extension": ".py",
   "mimetype": "text/x-python",
   "name": "python",
   "nbconvert_exporter": "python",
   "pygments_lexer": "ipython3",
   "version": "3.10.9"
  }
 },
 "nbformat": 4,
 "nbformat_minor": 5
}
