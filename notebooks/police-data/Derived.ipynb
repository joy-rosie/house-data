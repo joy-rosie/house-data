{
 "cells": [
  {
   "cell_type": "markdown",
   "id": "bcc704ba-d843-432f-b146-65c4e55a096c",
   "metadata": {},
   "source": [
    "## Imports"
   ]
  },
  {
   "cell_type": "code",
   "execution_count": null,
   "id": "4a47f0ac-0967-4d29-b1de-198e85ed7871",
   "metadata": {},
   "outputs": [],
   "source": [
    "import io\n",
    "from collections import namedtuple\n",
    "from pathlib import Path\n",
    "import zipfile\n",
    "\n",
    "import datamate\n",
    "import pandas as pd\n",
    "from tqdm.notebook import tqdm"
   ]
  },
  {
   "cell_type": "markdown",
   "id": "6cab06c6-f42b-46e0-a1d1-e6ba02bebd16",
   "metadata": {},
   "source": [
    "## Name For This Data"
   ]
  },
  {
   "cell_type": "code",
   "execution_count": null,
   "id": "3f971752-20d0-4d2e-bc2c-720b9c6cbca1",
   "metadata": {},
   "outputs": [],
   "source": [
    "name = \"police-data/derived\"\n",
    "name_raw = \"police-data/raw\""
   ]
  },
  {
   "cell_type": "markdown",
   "id": "2e97c192-5d6b-4bf2-95f3-a571d7fd6747",
   "metadata": {},
   "source": [
    "## Load Necessary Configration"
   ]
  },
  {
   "cell_type": "code",
   "execution_count": null,
   "id": "6f13f546-42bf-4711-a75d-b5ee5192d0c6",
   "metadata": {},
   "outputs": [],
   "source": [
    "key = datamate.config.get_key_for_name(name=name)\n",
    "\n",
    "path_data = datamate.config.get_path_data_for_key(key=key)\n",
    "logger = datamate.logging.get_logger(key=key)\n",
    "\n",
    "logger.info(f\"{key=} loaded for {name=}\")\n",
    "logger.info(f\"{path_data=}\")\n",
    "\n",
    "key_raw = datamate.config.get_key_for_name(name=name_raw)\n",
    "path_data_raw = datamate.config.get_path_data_for_key(key=key_raw)\n",
    "\n",
    "logger.info(f\"Using {path_data_raw=} for {key_raw=}\")"
   ]
  },
  {
   "cell_type": "markdown",
   "id": "924457a9-5314-4f51-89bf-b01421441ca0",
   "metadata": {},
   "source": [
    "## Data Information\n",
    "\n",
    "- Main link is at https://data.police.uk/about/\n",
    "- Each zip file contains three years worth of data so there is a lot of overlap\n",
    "- There are three file types:\n",
    "    1. `street` - street level crime data, the one we are most interested\n",
    "    1. `outcomes` - outcomes from the crimes\n",
    "    1. `stop-and-search` - records about stop and search carried by the police\n",
    "- For `street` crime, we have the following columns:\n",
    "  | Field | Meaning |\n",
    "  | -- | -- |\n",
    "  | Reported by | The force that provided the data about the crime. |\n",
    "  | Falls within | At present, also the force that provided the data about the crime. This is currently being looked into and is likely to change in the near future. |\n",
    "  | Longitude and Latitude | The anonymised coordinates of the crime. See [Location Anonymisation](https://data.police.uk/about/#location-anonymisation) for more information. |\n",
    "  | LSOA code and LSOA name | References to the [Lower Layer Super Output Area](http://data.gov.uk/dataset/lower_layer_super_output_area_lsoa_boundaries) that the anonymised point falls into, according to the LSOA boundaries provided by the Office for National Statistics. |\n",
    "  | Crime type | One of the crime types listed in the [Police.UK FAQ](https://www.police.uk/pu/about-police.uk-crime-data/). |\n",
    "  | Last outcome category | A reference to whichever of the outcomes associated with the crime occurred most recently. For example, this crime's 'Last outcome category' would be 'Formal action is not in the public interest'. |\n",
    "  | Context | A field provided for forces to provide additional human-readable data about individual crimes. Currently, for newly added CSVs, this is always empty. |\n",
    "- Crime categories, mappings can be found at https://www.police.uk/SysSiteAssets/police-uk/media/downloads/crime-categories/police-uk-category-mappings.csv:\n",
    "  - **All crime**: Total for all categories.\n",
    "  - **Anti-social behaviour**: Includes personal, environmental and nuisance anti-social behaviour.\n",
    "  - **Bicycle theft**: Includes the taking without consent or theft of a pedal cycle.\n",
    "  - **Burglary**: Includes offences where a person enters a house or other building with the intention of stealing.\n",
    "  - **Criminal damage and arson**: Includes damage to buildings and vehicles and deliberate damage by fire.\n",
    "  - **Drugs**: Includes offences related to possession, supply and production.\n",
    "  - **Other crime**: Includes forgery, perjury and other miscellaneous crime.\n",
    "  - **Other theft**: Includes theft by an employee, blackmail and making off without payment.\n",
    "  - **Possession of weapons**: Includes possession of a weapon, such as a firearm or knife.\n",
    "  - **Public order**: Includes offences which cause fear, alarm or distress.\n",
    "  - **Robbery**: Includes offences where a person uses force or threat of force to steal.\n",
    "  - **Shoplifting**: Includes theft from shops or stalls.\n",
    "  - **Theft from the person**: Includes crimes that involve theft directly from the victim (including handbag, wallet, cash, mobile phones) but without the use or threat of physical force.\n",
    "  - **Vehicle crime**: Includes theft from or of a vehicle or interference with a vehicle.\n",
    "  - **Violence and sexual offences**: Includes offences against the person such as common assaults, Grievous Bodily Harm and sexual offences."
   ]
  },
  {
   "cell_type": "code",
   "execution_count": null,
   "id": "4ecec8ea-146c-4f75-87d2-8e4a237b09a3",
   "metadata": {},
   "outputs": [],
   "source": [
    "partition_cols = [\"year\", \"month\", \"policeForce\"]\n",
    "\n",
    "all_columns = [\n",
    "    \"idCrime\",\n",
    "    \"date\",\n",
    "    \"crimeType\",\n",
    "    \"longitude\",\n",
    "    \"latitude\",\n",
    "    \"location\",\n",
    "    \"lsoaCode\",\n",
    "    \"lsoaName\",\n",
    "    \"lastOutcomeCategory\",\n",
    "    \"reportedByPoliceForce\",\n",
    "    \"fallsWithinPoliceForce\",\n",
    "] + partition_cols\n",
    "\n",
    "map_headers = {\n",
    "    \"Crime ID\": \"idCrime\",\n",
    "    \"Month\": \"month\",\n",
    "    \"Reported by\": \"reportedByPoliceForce\",\n",
    "    \"Falls within\": \"fallsWithinPoliceForce\",\n",
    "    \"Longitude\": \"longitude\",\n",
    "    \"Latitude\": \"latitude\",\n",
    "    \"Location\": \"location\",\n",
    "    \"LSOA code\": \"lsoaCode\",\n",
    "    \"LSOA name\": \"lsoaName\",\n",
    "    \"Crime type\": \"crimeType\",\n",
    "    \"Last outcome category\": \"lastOutcomeCategory\",\n",
    "    \"Context\": \"context\",\n",
    "}\n",
    "\n",
    "def clean_data(\n",
    "    df_raw: pd.DataFrame,\n",
    "    police_force: str,\n",
    "    map_headers: dict[str, str],\n",
    "    all_columns: list[str],\n",
    ") -> pd.DataFrame:\n",
    "    return (\n",
    "        df_raw\n",
    "        .rename(columns=map_headers)\n",
    "        .assign(\n",
    "            idCrime=lambda x: x[\"idCrime\"].astype(\"string\"),\n",
    "            date=lambda x: pd.to_datetime(x[\"month\"]),\n",
    "            crimeType=lambda x: x[\"crimeType\"].astype(\"category\").cat.rename_categories(lambda s: s.lower().replace(\" \", \"-\")),\n",
    "            longitude=lambda x: pd.to_numeric(x[\"longitude\"]),\n",
    "            latitude=lambda x: pd.to_numeric(x[\"latitude\"]),\n",
    "            location=lambda x: x[\"location\"].astype(\"string\"),\n",
    "            lsoaCode=lambda x: x[\"lsoaCode\"].astype(\"string\"),\n",
    "            lsoaName=lambda x: x[\"lsoaName\"].astype(\"string\"),\n",
    "            lastOutcomeCategory=lambda x: x[\"lastOutcomeCategory\"].astype(\"string\"),\n",
    "            year=lambda x: x[\"date\"].dt.year.astype(\"category\"),\n",
    "            month=lambda x: x[\"date\"].dt.month.astype(\"category\"),\n",
    "            policeForce=police_force,\n",
    "            reportedByPoliceForce=lambda x: x[\"reportedByPoliceForce\"].astype(\"category\"),\n",
    "            fallsWithinPoliceForce=lambda x: x[\"fallsWithinPoliceForce\"].astype(\"category\"),\n",
    "        )\n",
    "        .astype({\"policeForce\": \"category\"})\n",
    "        .drop(columns=[\"context\"])\n",
    "        [all_columns]\n",
    "    )\n",
    "\n",
    "\n",
    "# # Testing function:\n",
    "# with zipfile.ZipFile(path_data_raw.joinpath(\"2022-12.zip\")) as zfile:\n",
    "#     police_force = \"metropolitan\"\n",
    "#     df = clean_data(\n",
    "#         df_raw=pd.read_csv(io.BytesIO(zfile.read(f\"2022-12/2022-12-{police_force}-street.csv\"))), \n",
    "#         police_force=police_force,\n",
    "#         map_headers=map_headers,\n",
    "#         all_columns=all_columns,\n",
    "#     )\n",
    "# df"
   ]
  },
  {
   "cell_type": "code",
   "execution_count": null,
   "id": "9d5e368d-0e16-4f8c-9180-8dd55d39a27f",
   "metadata": {},
   "outputs": [],
   "source": [
    "path_derived = path_data.joinpath(\"data.parquet\")\n",
    "logger.info(f\"Data will be saved to {path_derived=}\")"
   ]
  },
  {
   "cell_type": "code",
   "execution_count": null,
   "id": "971e7661-86af-485c-a568-a6ca757f530f",
   "metadata": {
    "tags": []
   },
   "outputs": [],
   "source": [
    "MonthPoliceForce = namedtuple(\"MonthPoliceForce\", [\"month\", \"police_force\"])\n",
    "\n",
    "files_read = set()\n",
    "street_csv = \"street.csv\"\n",
    "for zip_folder in tqdm(sorted(path_data_raw.iterdir(), reverse=True)):\n",
    "    logger.info(f\"Working on {zip_folder=}\")\n",
    "    with zipfile.ZipFile(zip_folder) as zfile:\n",
    "        for file in zfile.filelist[::-1]:\n",
    "            if file.filename.endswith(street_csv):\n",
    "                month = file.filename.split(\"/\")[0]\n",
    "                police_force = file.filename.split(\"/\")[1].split(f\"{month}-\", 1)[-1].split(f\"-{street_csv}\", 1)[0]\n",
    "                month_police_force = MonthPoliceForce(month=month, police_force=police_force)\n",
    "                if month_police_force not in files_read:\n",
    "                    logger.debug(f\"Reading {file.filename=} with {month_police_force=}\")\n",
    "                    df_raw = pd.read_csv(io.BytesIO(zfile.read(file)))\n",
    "                    \n",
    "                    df_clean = clean_data(\n",
    "                        df_raw=df_raw,\n",
    "                        police_force=police_force,\n",
    "                        map_headers=map_headers,\n",
    "                        all_columns=all_columns,\n",
    "                    )\n",
    "                    logger.debug(f\"{df_raw.shape=}, {df_clean.shape=}\")\n",
    "                    \n",
    "                    df_clean.to_parquet(path=path_derived, partition_cols=partition_cols)\n",
    "                    files_read.add(month_police_force)"
   ]
  },
  {
   "cell_type": "code",
   "execution_count": null,
   "id": "930f7fd8-030a-4639-b91f-2409c84c62bb",
   "metadata": {},
   "outputs": [],
   "source": [
    "%%time\n",
    "\n",
    "for year in range(2010, 2023):\n",
    "    df = pd.read_parquet(\n",
    "        path=path_derived, \n",
    "        filters=[(\"year\", \"=\", year)],\n",
    "        columns=[\"date\", \"idCrime\", \"crimeType\", \"longitude\", \"latitude\", \"policeForce\"],\n",
    "    )\n",
    "    logger.info(f\"{year=}\")\n",
    "    logger.info(f\"{df.columns=}\")\n",
    "    logger.info(f\"{df.shape=}\")\n",
    "    logger.info(f\"{df.memory_usage().sum()=:,}\")\n",
    "    logger.info(f\"\"\"{df.describe()=\n",
    "}\"\"\")\n",
    "    logger.info(f\"\"\"{df.describe(include='category')=\n",
    "}\"\"\")"
   ]
  }
 ],
 "metadata": {
  "kernelspec": {
   "display_name": "Python 3 (ipykernel)",
   "language": "python",
   "name": "python3"
  },
  "language_info": {
   "codemirror_mode": {
    "name": "ipython",
    "version": 3
   },
   "file_extension": ".py",
   "mimetype": "text/x-python",
   "name": "python",
   "nbconvert_exporter": "python",
   "pygments_lexer": "ipython3",
   "version": "3.10.9"
  }
 },
 "nbformat": 4,
 "nbformat_minor": 5
}
