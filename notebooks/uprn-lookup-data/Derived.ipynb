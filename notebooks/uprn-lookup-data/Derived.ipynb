{
 "cells": [
  {
   "cell_type": "markdown",
   "id": "1e53da89-5291-4e68-a969-03cf84b6ddf7",
   "metadata": {},
   "source": [
    "## Imports"
   ]
  },
  {
   "cell_type": "code",
   "execution_count": null,
   "id": "7d47edc3-d31b-479b-9a66-abb897207a02",
   "metadata": {},
   "outputs": [],
   "source": [
    "from pathlib import Path\n",
    "import os\n",
    "import datamate\n",
    "import pandas as pd\n",
    "from tqdm.notebook import tqdm"
   ]
  },
  {
   "cell_type": "markdown",
   "id": "6e520ddf-ed88-460f-b083-3ffdaa2e8f16",
   "metadata": {},
   "source": [
    "## Name For This Data"
   ]
  },
  {
   "cell_type": "code",
   "execution_count": null,
   "id": "fc5649dd-7bc5-4558-b6ff-daaf81b01dca",
   "metadata": {},
   "outputs": [],
   "source": [
    "name = \"uprn-lookup-data/derived\"\n",
    "name_raw = \"uprn-lookup-data/raw\""
   ]
  },
  {
   "cell_type": "markdown",
   "id": "647c1c9a-180b-4535-972b-99da90607be9",
   "metadata": {},
   "source": [
    "## Load Necessary Configuration"
   ]
  },
  {
   "cell_type": "code",
   "execution_count": null,
   "id": "8631b308-771d-4e7b-8639-258e329380ba",
   "metadata": {},
   "outputs": [],
   "source": [
    "key = datamate.config.get_key_for_name(name=name)\n",
    "\n",
    "path_data = datamate.config.get_path_data_for_key(key=key)\n",
    "logger = datamate.logging.get_logger(key=key)\n",
    "\n",
    "logger.info(f\"{key=} loaded for {name=}\")\n",
    "logger.info(f\"{path_data=}\")\n",
    "\n",
    "key_raw = datamate.config.get_key_for_name(name=name_raw)\n",
    "path_data_raw = datamate.config.get_path_data_for_key(key=key_raw)\n",
    "\n",
    "logger.info(f\"Using {path_data_raw=} for {key_raw=}\")"
   ]
  },
  {
   "cell_type": "markdown",
   "id": "c33612ac-5e98-4aea-b4a5-1034966f8b8a",
   "metadata": {},
   "source": [
    "## Data Information\n",
    "\n",
    "- Primary source of information is\n",
    "\n",
    "| Data Item | Exlpaination (where appropriate) |\n",
    "| -- | -- |\n",
    "| | |\n",
    "| | |"
   ]
  },
  {
   "cell_type": "code",
   "execution_count": null,
   "id": "0c535a7b-b0d1-4fd3-bd37-3ef2066194a1",
   "metadata": {},
   "outputs": [],
   "source": [
    "data_files = os.listdir(path_data_raw.joinpath(\"unzipped/Data\"))"
   ]
  },
  {
   "cell_type": "code",
   "execution_count": null,
   "id": "fd05307e-cdbe-4cb4-b7c0-e2a5761e7f16",
   "metadata": {},
   "outputs": [],
   "source": [
    "test = pd.read_csv(path_data_raw.joinpath(f\"unzipped/Data/{data_files[0]}\"))"
   ]
  },
  {
   "cell_type": "code",
   "execution_count": null,
   "id": "18376c27-9279-4419-b3da-929561e03a4a",
   "metadata": {},
   "outputs": [],
   "source": [
    "test.sample(10)"
   ]
  },
  {
   "cell_type": "code",
   "execution_count": null,
   "id": "117664ed-552c-44ea-be94-20b85ad3c582",
   "metadata": {},
   "outputs": [],
   "source": []
  }
 ],
 "metadata": {
  "kernelspec": {
   "display_name": "Python 3 (ipykernel)",
   "language": "python",
   "name": "python3"
  },
  "language_info": {
   "codemirror_mode": {
    "name": "ipython",
    "version": 3
   },
   "file_extension": ".py",
   "mimetype": "text/x-python",
   "name": "python",
   "nbconvert_exporter": "python",
   "pygments_lexer": "ipython3",
   "version": "3.10.9"
  }
 },
 "nbformat": 4,
 "nbformat_minor": 5
}
