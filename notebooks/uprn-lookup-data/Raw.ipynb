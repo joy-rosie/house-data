{
 "cells": [
  {
   "cell_type": "markdown",
   "id": "459c9ba6-591e-4838-9edb-f3266eb8053d",
   "metadata": {},
   "source": [
    "## Imports"
   ]
  },
  {
   "cell_type": "code",
   "execution_count": null,
   "id": "58a98a81-929b-429d-b4ec-532fbd89714f",
   "metadata": {},
   "outputs": [],
   "source": [
    "import datamate\n",
    "import requests\n",
    "import zipfile\n",
    "import pandas as pd"
   ]
  },
  {
   "cell_type": "markdown",
   "id": "d48090ec-1a41-4587-a8c9-38708dc60a0c",
   "metadata": {},
   "source": [
    "## Name For This Data"
   ]
  },
  {
   "cell_type": "code",
   "execution_count": null,
   "id": "3384fad4-b9ad-400d-8cca-5d9c91c630c6",
   "metadata": {},
   "outputs": [],
   "source": [
    "name = \"uprn-lookup-data/raw\""
   ]
  },
  {
   "cell_type": "markdown",
   "id": "1f0568c7-4c53-4bc9-9708-5d204bc31d45",
   "metadata": {},
   "source": [
    "## Load Necessary Configration"
   ]
  },
  {
   "cell_type": "code",
   "execution_count": null,
   "id": "c8f420c5-dca9-410a-a8dd-8a037b64fc3c",
   "metadata": {},
   "outputs": [],
   "source": [
    "key = datamate.config.get_key_for_name(name=name)\n",
    "\n",
    "path_data = datamate.config.get_path_data_for_key(key=key)\n",
    "logger = datamate.logging.get_logger(key=key)\n",
    "\n",
    "logger.info(f\"{key=} loaded for {name=}\")\n",
    "logger.info(f\"{path_data=}\")"
   ]
  },
  {
   "cell_type": "markdown",
   "id": "70c77523-13eb-4f7b-8235-27d2ef2a2b81",
   "metadata": {},
   "source": [
    "Data Information\n",
    "\n",
    "- Primary source of information is https://geoportal.statistics.gov.uk/datasets/national-statistics-uprn-lookup-february-2023/about"
   ]
  },
  {
   "cell_type": "code",
   "execution_count": null,
   "id": "5f1c0191-6466-4360-8bf3-933aa14800c3",
   "metadata": {},
   "outputs": [],
   "source": [
    "url = \"https://www.arcgis.com/sharing/rest/content/items/a46903edd1c7435b8fcdca80b0b190db/data\"\n",
    "zip_foldername = \"NSUL_FEB_2023_GB.zip\"\n",
    "foldername = \"NSUL_FEB_2023_GB\""
   ]
  },
  {
   "cell_type": "code",
   "execution_count": null,
   "id": "4bfae18d-c016-4d56-8fd3-293ec73f2cc5",
   "metadata": {},
   "outputs": [],
   "source": [
    "logger.info(f\"Reading {url=}\")\n",
    "response = requests.get(url, allow_redirects=True)\n",
    "\n",
    "path_file = path_data.joinpath(zip_foldername)\n",
    "logger.info(f\"Dumping to {path_file=}\")\n",
    "path_file.write_bytes(response.content)"
   ]
  },
  {
   "cell_type": "code",
   "execution_count": null,
   "id": "74204454-7d4d-4b79-88c9-51b700d690bd",
   "metadata": {},
   "outputs": [],
   "source": [
    "zipfile.is_zipfile(path_file)"
   ]
  },
  {
   "cell_type": "code",
   "execution_count": null,
   "id": "eaceb184-9b6a-45c7-b044-9c97a9f44d3c",
   "metadata": {},
   "outputs": [],
   "source": [
    "zip = zipfile.ZipFile(path_file)\n",
    "path_unzipped = path_data.joinpath(\"unzipped\")\n",
    "path_unzipped.mkdir(parents=True, exist_ok=True)"
   ]
  },
  {
   "cell_type": "code",
   "execution_count": null,
   "id": "a05b1812-098e-4385-9893-03f62f8bba36",
   "metadata": {},
   "outputs": [],
   "source": [
    "zip.extractall(path=path_unzipped, members=None, pwd=None)"
   ]
  },
  {
   "cell_type": "code",
   "execution_count": null,
   "id": "b6688e23-374b-474c-bf35-d9e3970c6cc7",
   "metadata": {},
   "outputs": [],
   "source": [
    "files = zip.namelist()"
   ]
  },
  {
   "cell_type": "code",
   "execution_count": null,
   "id": "f9caad2f-d3d1-44f4-8982-0b923d9676d2",
   "metadata": {},
   "outputs": [],
   "source": [
    "files"
   ]
  },
  {
   "cell_type": "code",
   "execution_count": null,
   "id": "27833c16-a1fb-4b07-9722-865308e6439c",
   "metadata": {},
   "outputs": [],
   "source": []
  }
 ],
 "metadata": {
  "kernelspec": {
   "display_name": "Python 3 (ipykernel)",
   "language": "python",
   "name": "python3"
  },
  "language_info": {
   "codemirror_mode": {
    "name": "ipython",
    "version": 3
   },
   "file_extension": ".py",
   "mimetype": "text/x-python",
   "name": "python",
   "nbconvert_exporter": "python",
   "pygments_lexer": "ipython3",
   "version": "3.10.9"
  }
 },
 "nbformat": 4,
 "nbformat_minor": 5
}
