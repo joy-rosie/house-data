{
 "cells": [
  {
   "cell_type": "markdown",
   "id": "459c9ba6-591e-4838-9edb-f3266eb8053d",
   "metadata": {},
   "source": [
    "## Imports"
   ]
  },
  {
   "cell_type": "code",
   "execution_count": 2,
   "id": "58a98a81-929b-429d-b4ec-532fbd89714f",
   "metadata": {},
   "outputs": [],
   "source": [
    "import datamate\n",
    "import requests\n",
    "import zipfile\n",
    "import pandas as pd"
   ]
  },
  {
   "cell_type": "markdown",
   "id": "d48090ec-1a41-4587-a8c9-38708dc60a0c",
   "metadata": {},
   "source": [
    "## Name For This Data"
   ]
  },
  {
   "cell_type": "code",
   "execution_count": 5,
   "id": "3384fad4-b9ad-400d-8cca-5d9c91c630c6",
   "metadata": {},
   "outputs": [],
   "source": [
    "name = \"uprn-lookup-data/raw\""
   ]
  },
  {
   "cell_type": "markdown",
   "id": "1f0568c7-4c53-4bc9-9708-5d204bc31d45",
   "metadata": {},
   "source": [
    "## Load Necessary Configration"
   ]
  },
  {
   "cell_type": "code",
   "execution_count": 6,
   "id": "c8f420c5-dca9-410a-a8dd-8a037b64fc3c",
   "metadata": {},
   "outputs": [
    {
     "name": "stdout",
     "output_type": "stream",
     "text": [
      "2023-03-01 21:01:02.325 INFO 3421450029 - <module>: key='uprn-lookup-data/raw' loaded for name='uprn-lookup-data/raw'\n",
      "2023-03-01 21:01:02.326 INFO 3421450029 - <module>: path_data=PosixPath('/media/josie/hdd/data/house-data/uprn-lookup-data/raw')\n"
     ]
    }
   ],
   "source": [
    "key = datamate.config.get_key_for_name(name=name)\n",
    "\n",
    "path_data = datamate.config.get_path_data_for_key(key=key)\n",
    "logger = datamate.logging.get_logger(key=key)\n",
    "\n",
    "logger.info(f\"{key=} loaded for {name=}\")\n",
    "logger.info(f\"{path_data=}\")"
   ]
  },
  {
   "cell_type": "markdown",
   "id": "70c77523-13eb-4f7b-8235-27d2ef2a2b81",
   "metadata": {},
   "source": [
    "Data Information\n",
    "\n",
    "- Primary source of information is https://geoportal.statistics.gov.uk/datasets/national-statistics-uprn-lookup-february-2023/about"
   ]
  },
  {
   "cell_type": "code",
   "execution_count": 7,
   "id": "5f1c0191-6466-4360-8bf3-933aa14800c3",
   "metadata": {},
   "outputs": [],
   "source": [
    "url = \"https://www.arcgis.com/sharing/rest/content/items/a46903edd1c7435b8fcdca80b0b190db/data\"\n",
    "zip_foldername = \"NSUL_FEB_2023_GB.zip\"\n",
    "foldername = \"NSUL_FEB_2023_GB\""
   ]
  },
  {
   "cell_type": "code",
   "execution_count": 9,
   "id": "4bfae18d-c016-4d56-8fd3-293ec73f2cc5",
   "metadata": {},
   "outputs": [
    {
     "name": "stdout",
     "output_type": "stream",
     "text": [
      "2023-03-01 21:11:53.293 INFO 3603449548 - <module>: Reading url='https://www.arcgis.com/sharing/rest/content/items/a46903edd1c7435b8fcdca80b0b190db/data'\n",
      "2023-03-01 21:12:11.846 INFO 3603449548 - <module>: Dumping to path_file=PosixPath('/media/josie/hdd/data/house-data/uprn-lookup-data/raw/NSUL_FEB_2023_GB.zip')\n"
     ]
    },
    {
     "data": {
      "text/plain": [
       "485481420"
      ]
     },
     "execution_count": 9,
     "metadata": {},
     "output_type": "execute_result"
    }
   ],
   "source": [
    "logger.info(f\"Reading {url=}\")\n",
    "response = requests.get(url, allow_redirects=True)\n",
    "\n",
    "path_file = path_data.joinpath(zip_foldername)\n",
    "logger.info(f\"Dumping to {path_file=}\")\n",
    "path_file.write_bytes(response.content)"
   ]
  },
  {
   "cell_type": "code",
   "execution_count": 10,
   "id": "74204454-7d4d-4b79-88c9-51b700d690bd",
   "metadata": {},
   "outputs": [
    {
     "data": {
      "text/plain": [
       "True"
      ]
     },
     "execution_count": 10,
     "metadata": {},
     "output_type": "execute_result"
    }
   ],
   "source": [
    "zipfile.is_zipfile(path_file)"
   ]
  },
  {
   "cell_type": "code",
   "execution_count": 11,
   "id": "eaceb184-9b6a-45c7-b044-9c97a9f44d3c",
   "metadata": {},
   "outputs": [],
   "source": [
    "zip = zipfile.ZipFile(path_file)\n",
    "path_unzipped = path_data.joinpath(\"unzipped\")\n",
    "path_unzipped.mkdir(parents=True, exist_ok=True)"
   ]
  },
  {
   "cell_type": "code",
   "execution_count": 12,
   "id": "a05b1812-098e-4385-9893-03f62f8bba36",
   "metadata": {},
   "outputs": [],
   "source": [
    "zip.extractall(path=path_unzipped, members=None, pwd=None)"
   ]
  },
  {
   "cell_type": "code",
   "execution_count": 13,
   "id": "b6688e23-374b-474c-bf35-d9e3970c6cc7",
   "metadata": {},
   "outputs": [],
   "source": [
    "files = zip.namelist()"
   ]
  },
  {
   "cell_type": "code",
   "execution_count": 14,
   "id": "f9caad2f-d3d1-44f4-8982-0b923d9676d2",
   "metadata": {},
   "outputs": [
    {
     "data": {
      "text/plain": [
       "['Data/',\n",
       " 'Data/NSUL_FEB_2023_EE.csv',\n",
       " 'Data/NSUL_FEB_2023_EM.csv',\n",
       " 'Data/NSUL_FEB_2023_LN.csv',\n",
       " 'Data/NSUL_FEB_2023_NE.csv',\n",
       " 'Data/NSUL_FEB_2023_NW.csv',\n",
       " 'Data/NSUL_FEB_2023_SC.csv',\n",
       " 'Data/NSUL_FEB_2023_SE.csv',\n",
       " 'Data/NSUL_FEB_2023_SW.csv',\n",
       " 'Data/NSUL_FEB_2023_WA.csv',\n",
       " 'Data/NSUL_FEB_2023_WM.csv',\n",
       " 'Data/NSUL_FEB_2023_YH.csv',\n",
       " 'Documents/',\n",
       " 'Documents/2011 Census Output Area Classification Names and Codes UK.csv',\n",
       " 'Documents/2011 Census Output Area Classification Names and Codes UK.xlsx',\n",
       " 'Documents/BUASD_names and codes UK as at 12_13.csv',\n",
       " 'Documents/BUASD_names and codes UK as at 12_13.xlsx',\n",
       " 'Documents/BUA_names and codes GB as at 12_22.csv',\n",
       " 'Documents/BUA_names and codes GB as at 12_22.xlsx',\n",
       " 'Documents/CED_County Electoral Division names and codes EN as at 05_21.csv',\n",
       " 'Documents/CED_County Electoral Division names and codes EN as at 05_21.xlsx',\n",
       " 'Documents/CTRY_Country names and codes UK as at 12_22.csv',\n",
       " 'Documents/CTRY_Country names and codes UK as at 12_22.xlsx',\n",
       " 'Documents/CTY_County names and codes EN as at 12_22.csv',\n",
       " 'Documents/CTY_County names and codes EN as at 12_22.xlsx',\n",
       " 'Documents/EER names and codes UK as at 12_10.csv',\n",
       " 'Documents/EER names and codes UK as at 12_10.xlsx',\n",
       " 'Documents/HLTHAU_names and codes UK as at 04_19.csv',\n",
       " 'Documents/HLTHAU_names and codes UK as at 04_19.xlsx',\n",
       " 'Documents/IMD lookup EN as at 12_15.csv',\n",
       " 'Documents/IMD lookup EN as at 12_15.xlsx',\n",
       " 'Documents/IMD lookup SC as at 12_16.csv',\n",
       " 'Documents/IMD lookup SC as at 12_16.xlsx',\n",
       " 'Documents/IMD lookup WA as at 12_14.csv',\n",
       " 'Documents/IMD lookup WA as at 12_14.xlsx',\n",
       " 'Documents/LAD_names and codes UK as at 12_22.csv',\n",
       " 'Documents/LAD_names and codes UK as at 12_22.xlsx',\n",
       " 'Documents/LAU121_ITL321_ITL221_ITL121_UK_LU.csv',\n",
       " 'Documents/LAU121_ITL321_ITL221_ITL121_UK_LU.xlsx',\n",
       " 'Documents/LEP_names and codes EN as at 04_21 v2.csv',\n",
       " 'Documents/LEP_names and codes EN as at 04_21 v2.xlsx',\n",
       " 'Documents/LOC names and codes UK as at 07_22.csv',\n",
       " 'Documents/LOC names and codes UK as at 07_22.xlsx',\n",
       " 'Documents/LSOA (2021) names and codes EW as at 12_21.csv',\n",
       " 'Documents/LSOA (2021) names and codes EW as at 12_21.xlsx',\n",
       " 'Documents/MSOA (2021) names and codes EW as at 12_21.csv',\n",
       " 'Documents/MSOA (2021) names and codes EW as at 12_21.xlsx',\n",
       " 'Documents/NPARK_National Park names and codes GB as at 08_16.csv',\n",
       " 'Documents/NPARK_National Park names and codes GB as at 08_16.xlsx',\n",
       " 'Documents/PCON_Westminster Parliamentary Constituency names and codes UK as at 12_22.csv',\n",
       " 'Documents/PCON_Westminster Parliamentary Constituency names and codes UK as at 12_22.xlsx',\n",
       " 'Documents/PCT_names and codes UK as at 04_19.csv',\n",
       " 'Documents/PCT_names and codes UK as at 04_19.xlsx',\n",
       " 'Documents/PFA_names and codes GB as at 12_21.csv',\n",
       " 'Documents/PFA_names and codes GB as at 12_21.xlsx',\n",
       " 'Documents/RGN_Region names and codes EN as at 12_22.csv',\n",
       " 'Documents/RGN_Region names and codes EN as at 12_22.xlsx',\n",
       " 'Documents/Rural Urban (2011) Indicator names and codes GB as at 12_16.csv',\n",
       " 'Documents/Rural Urban (2011) Indicator names and codes GB as at 12_16.xlsx',\n",
       " 'Documents/TTWA_names and codes UK as at 12_11 v5.csv',\n",
       " 'Documents/TTWA_names and codes UK as at 12_11 v5.xlsx',\n",
       " 'Documents/WD_Ward names and codes UK as at 12_22.csv',\n",
       " 'Documents/WD_Ward names and codes UK as at 12_22.xlsx',\n",
       " 'User Guide/',\n",
       " 'User Guide/NSUL User Guide Feb 2023.odt',\n",
       " 'User Guide/NSUL User Guide Feb 2023.pdf']"
      ]
     },
     "execution_count": 14,
     "metadata": {},
     "output_type": "execute_result"
    }
   ],
   "source": [
    "files"
   ]
  },
  {
   "cell_type": "code",
   "execution_count": null,
   "id": "27833c16-a1fb-4b07-9722-865308e6439c",
   "metadata": {},
   "outputs": [],
   "source": []
  }
 ],
 "metadata": {
  "kernelspec": {
   "display_name": "Python 3 (ipykernel)",
   "language": "python",
   "name": "python3"
  },
  "language_info": {
   "codemirror_mode": {
    "name": "ipython",
    "version": 3
   },
   "file_extension": ".py",
   "mimetype": "text/x-python",
   "name": "python",
   "nbconvert_exporter": "python",
   "pygments_lexer": "ipython3",
   "version": "3.10.9"
  }
 },
 "nbformat": 4,
 "nbformat_minor": 5
}
