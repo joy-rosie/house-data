{
 "cells": [
  {
   "cell_type": "markdown",
   "id": "bcc704ba-d843-432f-b146-65c4e55a096c",
   "metadata": {},
   "source": [
    "## Imports"
   ]
  },
  {
   "cell_type": "code",
   "execution_count": null,
   "id": "4a47f0ac-0967-4d29-b1de-198e85ed7871",
   "metadata": {},
   "outputs": [],
   "source": [
    "from pathlib import Path\n",
    "\n",
    "import datamate\n",
    "import pandas as pd\n",
    "import requests\n",
    "from tqdm.notebook import tqdm"
   ]
  },
  {
   "cell_type": "markdown",
   "id": "6cab06c6-f42b-46e0-a1d1-e6ba02bebd16",
   "metadata": {},
   "source": [
    "## Name For This Data"
   ]
  },
  {
   "cell_type": "code",
   "execution_count": null,
   "id": "3f971752-20d0-4d2e-bc2c-720b9c6cbca1",
   "metadata": {},
   "outputs": [],
   "source": [
    "name = \"school-performance-data/raw\""
   ]
  },
  {
   "cell_type": "markdown",
   "id": "2e97c192-5d6b-4bf2-95f3-a571d7fd6747",
   "metadata": {},
   "source": [
    "## Load Necessary Configration"
   ]
  },
  {
   "cell_type": "code",
   "execution_count": null,
   "id": "6f13f546-42bf-4711-a75d-b5ee5192d0c6",
   "metadata": {},
   "outputs": [],
   "source": [
    "key = datamate.config.get_key_for_name(name=name)\n",
    "\n",
    "path_data = datamate.config.get_path_data_for_key(key=key)\n",
    "logger = datamate.logging.get_logger(key=key)\n",
    "\n",
    "logger.info(f\"{key=} loaded for {name=}\")\n",
    "logger.info(f\"{path_data=}\")"
   ]
  },
  {
   "cell_type": "markdown",
   "id": "e276954e-bb3e-4677-8003-b40de5987481",
   "metadata": {},
   "source": [
    "## Data Information\n",
    "\n",
    "- Link to setup the download https://www.find-school-performance-data.service.gov.uk/download-data\n",
    "- Publication timetable https://www.find-school-performance-data.service.gov.uk/publication-timetable\n",
    "- Guidance https://www.gov.uk/government/collections/school-and-college-performance-measures"
   ]
  },
  {
   "cell_type": "code",
   "execution_count": null,
   "id": "fed9ddf7-fe29-4ea4-b459-99846ddd2acc",
   "metadata": {},
   "outputs": [],
   "source": [
    "def mkdir(path: Path):\n",
    "    path.mkdir(parents=True, exist_ok=True)\n",
    "    \n",
    "folder_template = \"{year_start:%Y}-{year_end:%Y}\""
   ]
  },
  {
   "cell_type": "markdown",
   "id": "d02ab16a-cd16-4a3a-8b24-d183e8f900e9",
   "metadata": {},
   "source": [
    "## Historical Data Pull"
   ]
  },
  {
   "cell_type": "code",
   "execution_count": null,
   "id": "91375443-0d4a-46f6-a4c5-5d986a7e7ea5",
   "metadata": {},
   "outputs": [],
   "source": [
    "# TODO - automate this\n",
    "data_information = {\n",
    "    pd.Interval(pd.Timestamp(\"1991\"), pd.Timestamp(\"1994\")): dict(\n",
    "        data=dict(filters=\"KS5\", file_format=\"xls\"),\n",
    "        meta=None,\n",
    "    ),\n",
    "    # No data for 1994 - 1995\n",
    "    pd.Interval(pd.Timestamp(\"1994\"), pd.Timestamp(\"1995\")): dict(\n",
    "        data=None,\n",
    "        meta=None,\n",
    "    ),\n",
    "    pd.Interval(pd.Timestamp(\"1995\"), pd.Timestamp(\"2001\")): dict(\n",
    "        data=dict(filters=\"KS2,KS5\", file_format=\"csv\"),\n",
    "        meta=None,\n",
    "    ),\n",
    "    pd.Interval(pd.Timestamp(\"2001\"), pd.Timestamp(\"2010\")): dict(\n",
    "        data=dict(filters=\"KS2,KS4,KS5\", file_format=\"csv\"),\n",
    "        meta=None,\n",
    "    ),\n",
    "    pd.Interval(pd.Timestamp(\"2010\"), pd.Timestamp(\"2011\")): dict(\n",
    "        data=dict(filters=\"SPINE,KS2,KS4,KS5,PUPILABSENCE,CENSUS,WORKFORCE,SPENDPERPUPIL\", file_format=\"csv\"),\n",
    "        meta=dict(regions=\"SPINE,KS2,KS4,KS5,PUPILABSENCE,CENSUS,WORKFORCE,SPENDPERPUPIL\"),\n",
    "    ),\n",
    "    pd.Interval(pd.Timestamp(\"2011\"), pd.Timestamp(\"2012\")): dict(\n",
    "        data=dict(filters=\"SPINE,KS2,KS4,KS4UNDERLYING,KS5,KS5UNDERLYING,DESTINATION,PUPILABSENCE,CENSUS,WORKFORCE,SPENDPERPUPIL,SPENDPERPUPILGROUPED\", file_format=\"csv\"),\n",
    "        meta=dict(regions=\"SPINE,KS2,KS4,KS4UNDERLYING,KS5,KS5UNDERLYING,DESTINATION,PUPILABSENCE,CENSUS,WORKFORCE,SPENDPERPUPIL,SPENDPERPUPILGROUPED\"),\n",
    "    ),\n",
    "    pd.Interval(pd.Timestamp(\"2012\"), pd.Timestamp(\"2013\")): dict(\n",
    "        data=dict(filters=\"SPINE,KS2,KS4,KS4UNDERLYING,KS5,VAQUAL,KS5UNDERLYING,VASUBJ,DESTINATION,PUPILABSENCE,CENSUS,WORKFORCE,SPENDPERPUPIL,SPENDPERPUPILGROUPED\", file_format=\"csv\"),\n",
    "        meta=dict(regions=\"SPINE,KS2,KS4,KS4UNDERLYING,KS5,VAQUAL,KS5UNDERLYING,VASUBJ,DESTINATION,PUPILABSENCE,CENSUS,WORKFORCE,SPENDPERPUPIL,SPENDPERPUPILGROUPED\"),\n",
    "    ),\n",
    "    pd.Interval(pd.Timestamp(\"2013\"), pd.Timestamp(\"2014\")): dict(\n",
    "        data=dict(filters=\"SPINE,KS2,KS4,KS4UNDERLYING,KS5,VAQUAL,KS5UNDERLYING,VASUBJ,DESTINATION,PUPILABSENCE,CENSUS,WORKFORCE,SPENDPERPUPIL,SPENDPERPUPILGROUPED,SPENDPERPUPILFULL\", file_format=\"csv\"),\n",
    "        meta=dict(regions=\"SPINE,KS2,KS4,KS4UNDERLYING,KS5,VAQUAL,KS5UNDERLYING,VASUBJ,DESTINATION,PUPILABSENCE,CENSUS,WORKFORCE,SPENDPERPUPIL,SPENDPERPUPILGROUPED,SPENDPERPUPILFULL\"),\n",
    "    ),\n",
    "    pd.Interval(pd.Timestamp(\"2014\"), pd.Timestamp(\"2015\")): dict(\n",
    "        data=dict(filters=\"SPINE,KS2,KS4,KS4PROV,KS4UNDERLYING,KS5,KS5MINSTANDARDS,VAQUAL,KS5UNDERLYING,VASUBJ,DESTINATION,PUPDESTPROV,PUPILABSENCE,CENSUS,WORKFORCE,SPENDPERPUPIL,SPENDPERPUPILGROUPED,SPENDPERPUPILFULL\", file_format=\"csv\"),\n",
    "        meta=dict(regions=\"SPINE,KS2,KS4,KS4PROV,KS4UNDERLYING,KS5,KS5MINSTANDARDS,VAQUAL,KS5UNDERLYING,VASUBJ,DESTINATION,PUPDESTPROV,PUPILABSENCE,CENSUS,WORKFORCE,SPENDPERPUPIL,SPENDPERPUPILGROUPED,SPENDPERPUPILFULL\"),\n",
    "    ),\n",
    "    pd.Interval(pd.Timestamp(\"2014\"), pd.Timestamp(\"2015\")): dict(\n",
    "        data=dict(filters=\"SPINE,KS2,KS4,KS4PROV,KS4UNDERLYING,KS5,KS5MINSTANDARDS,VAQUAL,KS5UNDERLYING,VASUBJ,DESTINATION,PUPDESTPROV,PUPILABSENCE,CENSUS,WORKFORCE,SPENDPERPUPIL,SPENDPERPUPILGROUPED,SPENDPERPUPILFULL\", file_format=\"csv\"),\n",
    "        meta=dict(regions=\"SPINE,KS2,KS4,KS4PROV,KS4UNDERLYING,KS5,KS5MINSTANDARDS,VAQUAL,KS5UNDERLYING,VASUBJ,DESTINATION,PUPDESTPROV,PUPILABSENCE,CENSUS,WORKFORCE,SPENDPERPUPIL,SPENDPERPUPILGROUPED,SPENDPERPUPILFULL\"),\n",
    "    ),\n",
    "    pd.Interval(pd.Timestamp(\"2015\"), pd.Timestamp(\"2016\")): dict(\n",
    "        data=dict(filters=\"SPINE,KS2,KS4,KS4PROV,KS4UNDERLYING,KS5,VAQUAL,KS5UNDERLYING,VASUBJ,KS4DESTINATION,KS5DESTINATION,PUPDESTPROV,PUPILABSENCE,CENSUS,WORKFORCE,SPENDPERPUPIL,SPENDPERPUPILGROUPED,SPENDPERPUPILFULL\", file_format=\"csv\"),\n",
    "        meta=dict(regions=\"SPINE,KS2,KS4,KS4PROV,KS4UNDERLYING,KS5,VAQUAL,KS5UNDERLYING,VASUBJ,KS4DESTINATION,KS5DESTINATION,PUPDESTPROV,PUPILABSENCE,CENSUS,WORKFORCE,SPENDPERPUPIL,SPENDPERPUPILGROUPED,SPENDPERPUPILFULL\"),\n",
    "    ),\n",
    "    pd.Interval(pd.Timestamp(\"2016\"), pd.Timestamp(\"2017\")): dict(\n",
    "        data=dict(filters=\"SPINE,KS2,KS4,KS4PROV,KS4UNDERLYING,KS5,VAQUAL,KS5UNDERLYING,VASUBJ,KS5APPR,KS4DESTINATION,KS5DESTINATION,PUPDESTPROV,OFSTEDSCHOOLS,OFSTEDFE,PUPILABSENCE,CENSUS,WORKFORCE,SPENDPERPUPIL,SPENDPERPUPILGROUPED,SPENDPERPUPILFULL,KS2MATS,KS4MATS\", file_format=\"csv\"),\n",
    "        meta=dict(regions=\"SPINE,KS2,KS4,KS4PROV,KS4UNDERLYING,KS5,VAQUAL,KS5UNDERLYING,VASUBJ,KS5APPR,KS4DESTINATION,KS5DESTINATION,PUPDESTPROV,OFSTEDSCHOOLS,OFSTEDFE,PUPILABSENCE,CENSUS,WORKFORCE,SPENDPERPUPIL,SPENDPERPUPILGROUPED,SPENDPERPUPILFULL,KS2MATS,KS4MATS\"),\n",
    "    ),\n",
    "    pd.Interval(pd.Timestamp(\"2017\"), pd.Timestamp(\"2018\")): dict(\n",
    "        data=dict(filters=\"SPINE,KS2,KS4,KS4PROV,KS4UNDERLYING,KS5,VAQUAL,KS5UNDERLYING,VASUBJ,KS5APPR,KS5MATHSCI,KS4DESTINATION,KS5DESTINATION,PUPDESTPROV,PUPILABSENCE,CENSUS,WORKFORCE,SPENDPERPUPIL,SPENDPERPUPILGROUPED,SPENDPERPUPILFULL,KS2MATS,KS4MATS,KS5MATS\", file_format=\"csv\"),\n",
    "        meta=dict(regions=\"SPINE,KS2,KS4,KS4PROV,KS4UNDERLYING,KS5,VAQUAL,KS5UNDERLYING,VASUBJ,KS5APPR,KS5MATHSCI,KS4DESTINATION,KS5DESTINATION,PUPDESTPROV,PUPILABSENCE,CENSUS,WORKFORCE,SPENDPERPUPIL,SPENDPERPUPILGROUPED,SPENDPERPUPILFULL,KS2MATS,KS4MATS,KS5MATS\"),\n",
    "    ),\n",
    "    pd.Interval(pd.Timestamp(\"2017\"), pd.Timestamp(\"2018\")): dict(\n",
    "        data=dict(filters=\"SPINE,KS2,KS4,KS4PROV,KS4UNDERLYING,KS5,VAQUAL,KS5UNDERLYING,VASUBJ,KS5APPR,KS5MATHSCI,KS4DESTINATION,KS5DESTINATION,PUPDESTPROV,PUPILABSENCE,CENSUS,WORKFORCE,SPENDPERPUPIL,SPENDPERPUPILGROUPED,SPENDPERPUPILFULL,KS2MATS,KS4MATS,KS5MATS\", file_format=\"csv\"),\n",
    "        meta=dict(regions=\"SPINE,KS2,KS4,KS4PROV,KS4UNDERLYING,KS5,VAQUAL,KS5UNDERLYING,VASUBJ,KS5APPR,KS5MATHSCI,KS4DESTINATION,KS5DESTINATION,PUPDESTPROV,PUPILABSENCE,CENSUS,WORKFORCE,SPENDPERPUPIL,SPENDPERPUPILGROUPED,SPENDPERPUPILFULL,KS2MATS,KS4MATS,KS5MATS\"),\n",
    "    ),\n",
    "    pd.Interval(pd.Timestamp(\"2018\"), pd.Timestamp(\"2019\")): dict(\n",
    "        data=dict(filters=\"GIAS,KS2,KS4,KS4PROV,KS4UNDERLYING,KS5,VAQUAL,KS5UNDERLYING,VASUBJ,KS5APPR,KS5MATHSCI,KS4DESTINATION,KS5DESTINATION,KS5DESTINATIONHE,PUPDESTPROV,PUPILABSENCE,CENSUS,WORKFORCE,SPENDPERPUPIL,SPENDPERPUPILGROUPED,SPENDPERPUPILFULL,KS2MATS,KS4MATS,KS5MATS\", file_format=\"csv\"),\n",
    "        meta=dict(regions=\"GIAS,KS2,KS4,KS4PROV,KS4UNDERLYING,KS5,VAQUAL,KS5UNDERLYING,VASUBJ,KS5APPR,KS5MATHSCI,KS4DESTINATION,KS5DESTINATION,KS5DESTINATIONHE,PUPDESTPROV,PUPILABSENCE,CENSUS,WORKFORCE,SPENDPERPUPIL,SPENDPERPUPILGROUPED,SPENDPERPUPILFULL,KS2MATS,KS4MATS,KS5MATS\"),\n",
    "    ),\n",
    "    pd.Interval(pd.Timestamp(\"2019\"), pd.Timestamp(\"2020\")): dict(\n",
    "        data=dict(filters=\"GIAS,KS2,KS4,KS4PROV,KS4UNDERLYING,KS5,VAQUAL,KS5UNDERLYING,VASUBJ,KS5APPR,KS5MATHSCI,KS4DESTINATION,KS5DESTINATION,KS5DESTINATIONHE,PUPDESTPROV,PUPILABSENCE,CENSUS,WORKFORCE,SPENDPERPUPIL,SPENDPERPUPILGROUPED,SPENDPERPUPILFULL,KS2MATS,KS4MATS,KS5MATS\", file_format=\"csv\"),\n",
    "        meta=dict(regions=\"GIAS,KS2,KS4,KS4PROV,KS4UNDERLYING,KS5,VAQUAL,KS5UNDERLYING,VASUBJ,KS5APPR,KS5MATHSCI,KS4DESTINATION,KS5DESTINATION,KS5DESTINATIONHE,PUPDESTPROV,PUPILABSENCE,CENSUS,WORKFORCE,SPENDPERPUPIL,SPENDPERPUPILGROUPED,SPENDPERPUPILFULL,KS2MATS,KS4MATS,KS5MATS\"),\n",
    "    ),\n",
    "    # No data for 2019 - 2020\n",
    "    pd.Interval(pd.Timestamp(\"2019\"), pd.Timestamp(\"2020\")): dict(\n",
    "        data=None,\n",
    "        meta=None,\n",
    "    ),\n",
    "    pd.Interval(pd.Timestamp(\"2020\"), pd.Timestamp(\"2021\")): dict(\n",
    "        data=dict(filters=\"GIAS,KS4SUBJECTENTRIES,KS4EBACCENTRIES,KS5SUBJECTENTRIES,KS4DESTINATION,KS5DESTINATION,KS5DESTINATIONHE,CENSUS,WORKFORCE,SPENDPERPUPIL,SPENDPERPUPILGROUPED,SPENDPERPUPILFULL\", file_format=\"csv\"),\n",
    "        meta=dict(regions=\"GIAS,KS4SUBJECTENTRIES,KS4EBACCENTRIES,KS5SUBJECTENTRIES,KS4DESTINATION,KS5DESTINATION,KS5DESTINATIONHE,CENSUS,WORKFORCE,SPENDPERPUPIL,SPENDPERPUPILGROUPED,SPENDPERPUPILFULL\"),\n",
    "    ),\n",
    "    pd.Interval(pd.Timestamp(\"2021\"), pd.Timestamp(\"2022\")): dict(\n",
    "        data=dict(filters=\"GIAS,KS4,KS4PROV,KS4SUBJECTENTRIES,KS5,KS5SUBJECTENTRIES,KS4DESTINATION,KS5DESTINATION,KS5DESTINATIONHE,CENSUS,KS4MATS,KS5MATS\", file_format=\"csv\"),\n",
    "        meta=dict(regions=\"GIAS,KS4,KS4PROV,KS4SUBJECTENTRIES,KS5,KS5SUBJECTENTRIES,KS4DESTINATION,KS5DESTINATION,KS5DESTINATIONHE,CENSUS,KS4MATS,KS5MATS\"),\n",
    "    ),\n",
    "}"
   ]
  },
  {
   "cell_type": "code",
   "execution_count": null,
   "id": "52f3375f-a88c-4471-9065-3fab4e00ecfd",
   "metadata": {},
   "outputs": [],
   "source": [
    "df_info = (\n",
    "    pd.DataFrame(data_information)\n",
    "    .transpose()\n",
    "    .rename_axis(\"interval\", axis=\"index\")\n",
    "    .reset_index()\n",
    ")\n",
    "\n",
    "year_range = pd.interval_range(start=pd.Timestamp(\"1991\"), end=pd.Timestamp(\"2022\"), freq=\"YS\")\n",
    "\n",
    "df_range = (\n",
    "    pd.DataFrame(dict(year_range=year_range))\n",
    "    .assign(temp=1)\n",
    "    .merge(\n",
    "        df_info.assign(temp=1),\n",
    "        on=\"temp\",\n",
    "    )\n",
    "    [lambda x: x.apply(lambda row: row[\"interval\"].overlaps(row[\"year_range\"]), axis=1)]\n",
    "    .drop(columns=\"temp\")\n",
    "    .reset_index(drop=True)\n",
    "    .assign(\n",
    "        year_start=lambda x: x[\"year_range\"].map(lambda y: y.left),\n",
    "        year_end=lambda x: x[\"year_range\"].map(lambda y: y.right),\n",
    "        data=lambda x: x.apply(lambda row: None if row[\"data\"] is None else dict(year_start=row[\"year_start\"], year_end=row[\"year_end\"], **row[\"data\"]), axis=1),\n",
    "        meta=lambda x: x.apply(lambda row: None if row[\"meta\"] is None else dict(year_start=row[\"year_start\"], year_end=row[\"year_end\"], **row[\"meta\"]), axis=1),\n",
    "    )\n",
    ")"
   ]
  },
  {
   "cell_type": "code",
   "execution_count": null,
   "id": "6caeb9c0-3937-4206-abed-fbbb07dd776e",
   "metadata": {},
   "outputs": [],
   "source": [
    "url_template = \"https://www.find-school-performance-data.service.gov.uk/download-data?download=true&regions=0&filters={filters}&fileformat={file_format}&year={year_start:%Y}-{year_end:%Y}&meta=false\"\n",
    "url_meta_template = \"https://www.find-school-performance-data.service.gov.uk/download-data?download=true&regions={regions}&filters=meta&fileformat=csv&year={year_start:%Y}-{year_end:%Y}&meta=true\"\n",
    "\n",
    "data_file_name_template = \"{year_start:%Y}-{year_end:%Y}-data.zip\"\n",
    "meta_file_name_template = \"{year_start:%Y}-{year_end:%Y}-meta.zip\"\n",
    "\n",
    "logger.info(f\"{url_template=}\")\n",
    "logger.info(f\"{url_meta_template=}\")"
   ]
  },
  {
   "cell_type": "code",
   "execution_count": null,
   "id": "f2d0b1f4-d473-46d0-92e7-6deb69c8826e",
   "metadata": {},
   "outputs": [],
   "source": [
    "for _, row  in tqdm(df_range.iterrows()):\n",
    "    year_start = row[\"year_start\"]\n",
    "    year_end = row[\"year_end\"]\n",
    "    \n",
    "    path_folder = path_data.joinpath(folder_template.format(\n",
    "        year_start=year_start, \n",
    "        year_end=year_end,\n",
    "    ))\n",
    "    mkdir(path=path_folder)\n",
    "\n",
    "    # Data\n",
    "    if row[\"data\"] is not None:\n",
    "        url = url_template.format(**row[\"data\"])\n",
    "        logger.info(f\"Reading data {url=}\")\n",
    "        response = requests.get(url)\n",
    "        logger.info(f\"{response}\")\n",
    "\n",
    "        path_file = path_folder.joinpath(data_file_name_template.format(\n",
    "            year_start=year_start,\n",
    "            year_end=year_end,\n",
    "        ))\n",
    "        logger.info(f\"Dumping data to {path_file=}\")\n",
    "        path_file.write_bytes(response.content)\n",
    "    else:\n",
    "        logger.info(f\"No data available for {year_start=:%Y}, {year_end=:%Y}\")\n",
    "        \n",
    "    # Meta\n",
    "    if row[\"meta\"] is not None:\n",
    "        url = url_meta_template.format(**row[\"meta\"])\n",
    "        logger.info(f\"Reading meta {url=}\")\n",
    "        response = requests.get(url)\n",
    "        logger.info(f\"{response}\")\n",
    "\n",
    "        path_file = path_folder.joinpath(meta_file_name_template.format(\n",
    "            year_start=year_start,\n",
    "            year_end=year_end,\n",
    "        ))\n",
    "        logger.info(f\"Dumping meta to {path_file=}\")\n",
    "        path_file.write_bytes(response.content)\n",
    "    else:\n",
    "        logger.info(f\"No meta available for {year_start=:%Y}, {year_end=:%Y}\")"
   ]
  }
 ],
 "metadata": {
  "kernelspec": {
   "display_name": "Python 3 (ipykernel)",
   "language": "python",
   "name": "python3"
  },
  "language_info": {
   "codemirror_mode": {
    "name": "ipython",
    "version": 3
   },
   "file_extension": ".py",
   "mimetype": "text/x-python",
   "name": "python",
   "nbconvert_exporter": "python",
   "pygments_lexer": "ipython3",
   "version": "3.10.9"
  }
 },
 "nbformat": 4,
 "nbformat_minor": 5
}
